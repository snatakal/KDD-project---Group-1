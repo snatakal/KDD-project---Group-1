{
 "cells": [
  {
   "cell_type": "markdown",
   "metadata": {},
   "source": [
    "## Exploratory Data Analysis"
   ]
  },
  {
   "cell_type": "code",
   "execution_count": 1,
   "metadata": {},
   "outputs": [],
   "source": [
    "import pandas as pd\n",
    "import numpy as np\n",
    "import plotly.express as px\n",
    "import seaborn as sn\n",
    "import matplotlib.pyplot as plt\n",
    "from plotly.subplots import make_subplots\n",
    "import seaborn as sns\n",
    "import warnings\n",
    "warnings.filterwarnings('ignore')"
   ]
  },
  {
   "cell_type": "markdown",
   "metadata": {},
   "source": [
    "## Dataset"
   ]
  },
  {
   "cell_type": "code",
   "execution_count": 2,
   "metadata": {},
   "outputs": [
    {
     "data": {
      "text/html": [
       "<div>\n",
       "<style scoped>\n",
       "    .dataframe tbody tr th:only-of-type {\n",
       "        vertical-align: middle;\n",
       "    }\n",
       "\n",
       "    .dataframe tbody tr th {\n",
       "        vertical-align: top;\n",
       "    }\n",
       "\n",
       "    .dataframe thead th {\n",
       "        text-align: right;\n",
       "    }\n",
       "</style>\n",
       "<table border=\"1\" class=\"dataframe\">\n",
       "  <thead>\n",
       "    <tr style=\"text-align: right;\">\n",
       "      <th></th>\n",
       "      <th>P_MATCH_ID</th>\n",
       "      <th>GOLDEARNED</th>\n",
       "      <th>TOTALMINIONSKILLED</th>\n",
       "      <th>WIN</th>\n",
       "      <th>KILLS</th>\n",
       "      <th>ASSISTS</th>\n",
       "      <th>DEATHS</th>\n",
       "      <th>CHAMPION</th>\n",
       "      <th>VISIONSCORE</th>\n",
       "      <th>PUUID</th>\n",
       "      <th>TOTALDAMAGEDEALTTOCHAMPIONS</th>\n",
       "      <th>SUMMONERNAME</th>\n",
       "      <th>GAMEVERSION</th>\n",
       "      <th>Unnamed: 13</th>\n",
       "    </tr>\n",
       "  </thead>\n",
       "  <tbody>\n",
       "    <tr>\n",
       "      <th>0</th>\n",
       "      <td>TR1_1201957752_top</td>\n",
       "      <td>14425</td>\n",
       "      <td>194</td>\n",
       "      <td>False</td>\n",
       "      <td>14</td>\n",
       "      <td>5</td>\n",
       "      <td>7</td>\n",
       "      <td>Kassadin</td>\n",
       "      <td>17</td>\n",
       "      <td>phduyQLB8gBjUerFwiVOtyLLHE9jxw7Jq7dwab_CtRddAv...</td>\n",
       "      <td>33426</td>\n",
       "      <td>Borke</td>\n",
       "      <td>11.14.384.6677</td>\n",
       "      <td>NaN</td>\n",
       "    </tr>\n",
       "    <tr>\n",
       "      <th>1</th>\n",
       "      <td>TR1_1201957752_top</td>\n",
       "      <td>12920</td>\n",
       "      <td>177</td>\n",
       "      <td>True</td>\n",
       "      <td>3</td>\n",
       "      <td>13</td>\n",
       "      <td>6</td>\n",
       "      <td>Fiora</td>\n",
       "      <td>17</td>\n",
       "      <td>SgQ5hm74vmXVDB3GIt3ka7gaBXFpNnT3PbHU8TbjEk5PJ8...</td>\n",
       "      <td>12092</td>\n",
       "      <td>Nora Durst</td>\n",
       "      <td>11.14.384.6677</td>\n",
       "      <td>NaN</td>\n",
       "    </tr>\n",
       "    <tr>\n",
       "      <th>2</th>\n",
       "      <td>TR1_1201957752_middle</td>\n",
       "      <td>13483</td>\n",
       "      <td>221</td>\n",
       "      <td>False</td>\n",
       "      <td>7</td>\n",
       "      <td>3</td>\n",
       "      <td>6</td>\n",
       "      <td>Yone</td>\n",
       "      <td>20</td>\n",
       "      <td>m7Sxq9HxRKLIgf0n0QOKhfHq8jNMZ-k1VhW_jcb307sUya...</td>\n",
       "      <td>20604</td>\n",
       "      <td>Fightêr Yone</td>\n",
       "      <td>11.14.384.6677</td>\n",
       "      <td>NaN</td>\n",
       "    </tr>\n",
       "    <tr>\n",
       "      <th>3</th>\n",
       "      <td>TR1_1201957752_middle</td>\n",
       "      <td>11375</td>\n",
       "      <td>167</td>\n",
       "      <td>True</td>\n",
       "      <td>4</td>\n",
       "      <td>15</td>\n",
       "      <td>7</td>\n",
       "      <td>Corki</td>\n",
       "      <td>27</td>\n",
       "      <td>pa-g2VGIEJn7CJCYYQU1PaHUqjS9pB7M4PsDcjM3ac5ysM...</td>\n",
       "      <td>30150</td>\n",
       "      <td>AM SORİİ HE</td>\n",
       "      <td>11.14.384.6677</td>\n",
       "      <td>NaN</td>\n",
       "    </tr>\n",
       "    <tr>\n",
       "      <th>4</th>\n",
       "      <td>TR1_1201957752_bottom</td>\n",
       "      <td>11320</td>\n",
       "      <td>197</td>\n",
       "      <td>False</td>\n",
       "      <td>5</td>\n",
       "      <td>10</td>\n",
       "      <td>12</td>\n",
       "      <td>Kaisa</td>\n",
       "      <td>17</td>\n",
       "      <td>_WeC06P4yIMW7ZMWi6bmwCagXp7c7bxxGv6nNW4--SGqXp...</td>\n",
       "      <td>16689</td>\n",
       "      <td>º J İ N X º</td>\n",
       "      <td>11.14.384.6677</td>\n",
       "      <td>NaN</td>\n",
       "    </tr>\n",
       "  </tbody>\n",
       "</table>\n",
       "</div>"
      ],
      "text/plain": [
       "              P_MATCH_ID  GOLDEARNED  TOTALMINIONSKILLED    WIN  KILLS  \\\n",
       "0     TR1_1201957752_top       14425                 194  False     14   \n",
       "1     TR1_1201957752_top       12920                 177   True      3   \n",
       "2  TR1_1201957752_middle       13483                 221  False      7   \n",
       "3  TR1_1201957752_middle       11375                 167   True      4   \n",
       "4  TR1_1201957752_bottom       11320                 197  False      5   \n",
       "\n",
       "   ASSISTS  DEATHS  CHAMPION  VISIONSCORE  \\\n",
       "0        5       7  Kassadin           17   \n",
       "1       13       6     Fiora           17   \n",
       "2        3       6      Yone           20   \n",
       "3       15       7     Corki           27   \n",
       "4       10      12     Kaisa           17   \n",
       "\n",
       "                                               PUUID  \\\n",
       "0  phduyQLB8gBjUerFwiVOtyLLHE9jxw7Jq7dwab_CtRddAv...   \n",
       "1  SgQ5hm74vmXVDB3GIt3ka7gaBXFpNnT3PbHU8TbjEk5PJ8...   \n",
       "2  m7Sxq9HxRKLIgf0n0QOKhfHq8jNMZ-k1VhW_jcb307sUya...   \n",
       "3  pa-g2VGIEJn7CJCYYQU1PaHUqjS9pB7M4PsDcjM3ac5ysM...   \n",
       "4  _WeC06P4yIMW7ZMWi6bmwCagXp7c7bxxGv6nNW4--SGqXp...   \n",
       "\n",
       "   TOTALDAMAGEDEALTTOCHAMPIONS  SUMMONERNAME     GAMEVERSION  Unnamed: 13  \n",
       "0                        33426         Borke  11.14.384.6677          NaN  \n",
       "1                        12092    Nora Durst  11.14.384.6677          NaN  \n",
       "2                        20604  Fightêr Yone  11.14.384.6677          NaN  \n",
       "3                        30150   AM SORİİ HE  11.14.384.6677          NaN  \n",
       "4                        16689  º J İ N X º   11.14.384.6677          NaN  "
      ]
     },
     "execution_count": 2,
     "metadata": {},
     "output_type": "execute_result"
    }
   ],
   "source": [
    "# load dataset\n",
    "# dataset is too large to load to github. We're maintaining local copies\n",
    "matches = pd.read_csv(\"matchups.csv\")\n",
    "matches.head()"
   ]
  },
  {
   "cell_type": "code",
   "execution_count": 3,
   "metadata": {},
   "outputs": [
    {
     "name": "stdout",
     "output_type": "stream",
     "text": [
      "(1312252, 14)\n"
     ]
    }
   ],
   "source": [
    "print(matches.shape)"
   ]
  },
  {
   "cell_type": "markdown",
   "metadata": {},
   "source": [
    "## Data Description\n",
    "\n",
    "Dataset has 1312252 records, and 14 columns initially\n",
    "\n",
    "Match attributes - attributes common to every match\n",
    "\n",
    " - GOLDEARNED - Gold earned by player in the match\n",
    " - TOTALMINIONSKILLED - Total minions killed by player in the match\n",
    " - WIN - Match won or lost. Either True or False\n",
    " - KILLS - Total kills by player in the match\n",
    " - ASSISTS - Total assists by player in the match\n",
    " - DEATHS - Total deaths of player in the match\n",
    " - CHAMPION - The champion the player was playing\n",
    " - VISIONSCORE - The vision score of the player in the match\n",
    " - TOTALDAMAGEDEALTTOCHAMPIONS - Total damage delt by player to other players\n",
    "     \n",
    "     \n",
    "\n",
    "Unique attributes - attributes unique to every match or the game itself\n",
    "\n",
    " - P_MATCH_ID - Unique identifier for player in a match. Contains 3 important attributes - Region, ID, Role seperated by '_'\n",
    " - PUUID - The unique identifier of the player. Is tied to the players RIOT games account, and is unique through game, across all regions.\n",
    " - SUMMONERNAME - The \"username\" / \"gamertag\" of the player. Is unique within a region.\n",
    " - GAMEVERSION - The version of the game a match belongs to.\n",
    "\n",
    "Irrelevant attributes\n",
    "\n",
    " - Unnamed: 13 - will be deleted"
   ]
  },
  {
   "cell_type": "markdown",
   "metadata": {},
   "source": [
    "## Data Preprocessing"
   ]
  },
  {
   "cell_type": "markdown",
   "metadata": {},
   "source": [
    "### Unpack P_MATCH_ID into new columns"
   ]
  },
  {
   "cell_type": "code",
   "execution_count": 4,
   "metadata": {},
   "outputs": [],
   "source": [
    "# splitting the P_MATCH_ID to Region, Match Id and Role\n",
    "matches[['REGION', 'MATCH_ID', 'ROLE']] = matches['P_MATCH_ID'].str.split('_', expand=True)\n",
    "\n",
    "# MATCH_ID is not unique across regions. Create a unique identifier.\n",
    "matches['MATCH_ID'] = matches['MATCH_ID'].str.cat(matches[['REGION']], sep='_')"
   ]
  },
  {
   "cell_type": "markdown",
   "metadata": {},
   "source": [
    "### Drop unnecessary columns"
   ]
  },
  {
   "cell_type": "code",
   "execution_count": 5,
   "metadata": {},
   "outputs": [],
   "source": [
    "# Dropping unnecessary columns\n",
    "matches = matches.drop(columns = ['P_MATCH_ID', 'Unnamed: 13'])"
   ]
  },
  {
   "cell_type": "code",
   "execution_count": 6,
   "metadata": {},
   "outputs": [
    {
     "name": "stdout",
     "output_type": "stream",
     "text": [
      "Index(['GOLDEARNED', 'TOTALMINIONSKILLED', 'WIN', 'KILLS', 'ASSISTS', 'DEATHS',\n",
      "       'CHAMPION', 'VISIONSCORE', 'PUUID', 'TOTALDAMAGEDEALTTOCHAMPIONS',\n",
      "       'SUMMONERNAME', 'GAMEVERSION', 'REGION', 'MATCH_ID', 'ROLE'],\n",
      "      dtype='object')\n"
     ]
    }
   ],
   "source": [
    "#printing column names \n",
    "print(matches.columns)"
   ]
  },
  {
   "cell_type": "markdown",
   "metadata": {},
   "source": [
    "### Drop matches with invalid or null values\n"
   ]
  },
  {
   "cell_type": "code",
   "execution_count": 7,
   "metadata": {},
   "outputs": [
    {
     "data": {
      "text/html": [
       "<div>\n",
       "<style scoped>\n",
       "    .dataframe tbody tr th:only-of-type {\n",
       "        vertical-align: middle;\n",
       "    }\n",
       "\n",
       "    .dataframe tbody tr th {\n",
       "        vertical-align: top;\n",
       "    }\n",
       "\n",
       "    .dataframe thead th {\n",
       "        text-align: right;\n",
       "    }\n",
       "</style>\n",
       "<table border=\"1\" class=\"dataframe\">\n",
       "  <thead>\n",
       "    <tr style=\"text-align: right;\">\n",
       "      <th></th>\n",
       "      <th>GOLDEARNED</th>\n",
       "      <th>TOTALMINIONSKILLED</th>\n",
       "      <th>WIN</th>\n",
       "      <th>KILLS</th>\n",
       "      <th>ASSISTS</th>\n",
       "      <th>DEATHS</th>\n",
       "      <th>CHAMPION</th>\n",
       "      <th>VISIONSCORE</th>\n",
       "      <th>PUUID</th>\n",
       "      <th>TOTALDAMAGEDEALTTOCHAMPIONS</th>\n",
       "      <th>SUMMONERNAME</th>\n",
       "      <th>GAMEVERSION</th>\n",
       "      <th>REGION</th>\n",
       "      <th>MATCH_ID</th>\n",
       "      <th>ROLE</th>\n",
       "    </tr>\n",
       "  </thead>\n",
       "  <tbody>\n",
       "    <tr>\n",
       "      <th>398808</th>\n",
       "      <td>6051</td>\n",
       "      <td>37</td>\n",
       "      <td>True</td>\n",
       "      <td>0</td>\n",
       "      <td>10</td>\n",
       "      <td>0</td>\n",
       "      <td>Lulu</td>\n",
       "      <td>32</td>\n",
       "      <td>L2m7Wx4EYFqHCgGzHRz1IWpdjPY17m9epJyZI4_A1IswHo...</td>\n",
       "      <td>3502</td>\n",
       "      <td>NaN</td>\n",
       "      <td>11.15.389.2308</td>\n",
       "      <td>NA1</td>\n",
       "      <td>3993107745_NA1</td>\n",
       "      <td>utility</td>\n",
       "    </tr>\n",
       "    <tr>\n",
       "      <th>1241011</th>\n",
       "      <td>17188</td>\n",
       "      <td>239</td>\n",
       "      <td>True</td>\n",
       "      <td>11</td>\n",
       "      <td>14</td>\n",
       "      <td>4</td>\n",
       "      <td>Kassadin</td>\n",
       "      <td>20</td>\n",
       "      <td>ZKqRsvGm94WBAZf8w_16AmPYZ33fHKKh440ARecW7Mf7C7...</td>\n",
       "      <td>34659</td>\n",
       "      <td>NaN</td>\n",
       "      <td>11.3.357.5376</td>\n",
       "      <td>BR1</td>\n",
       "      <td>2186840449_BR1</td>\n",
       "      <td>middle</td>\n",
       "    </tr>\n",
       "    <tr>\n",
       "      <th>1303486</th>\n",
       "      <td>9579</td>\n",
       "      <td>11</td>\n",
       "      <td>True</td>\n",
       "      <td>4</td>\n",
       "      <td>18</td>\n",
       "      <td>1</td>\n",
       "      <td>Janna</td>\n",
       "      <td>56</td>\n",
       "      <td>L2m7Wx4EYFqHCgGzHRz1IWpdjPY17m9epJyZI4_A1IswHo...</td>\n",
       "      <td>11009</td>\n",
       "      <td>NaN</td>\n",
       "      <td>11.15.389.2308</td>\n",
       "      <td>NA1</td>\n",
       "      <td>3990915292_NA1</td>\n",
       "      <td>utility</td>\n",
       "    </tr>\n",
       "  </tbody>\n",
       "</table>\n",
       "</div>"
      ],
      "text/plain": [
       "         GOLDEARNED  TOTALMINIONSKILLED   WIN  KILLS  ASSISTS  DEATHS  \\\n",
       "398808         6051                  37  True      0       10       0   \n",
       "1241011       17188                 239  True     11       14       4   \n",
       "1303486        9579                  11  True      4       18       1   \n",
       "\n",
       "         CHAMPION  VISIONSCORE  \\\n",
       "398808       Lulu           32   \n",
       "1241011  Kassadin           20   \n",
       "1303486     Janna           56   \n",
       "\n",
       "                                                     PUUID  \\\n",
       "398808   L2m7Wx4EYFqHCgGzHRz1IWpdjPY17m9epJyZI4_A1IswHo...   \n",
       "1241011  ZKqRsvGm94WBAZf8w_16AmPYZ33fHKKh440ARecW7Mf7C7...   \n",
       "1303486  L2m7Wx4EYFqHCgGzHRz1IWpdjPY17m9epJyZI4_A1IswHo...   \n",
       "\n",
       "         TOTALDAMAGEDEALTTOCHAMPIONS SUMMONERNAME     GAMEVERSION REGION  \\\n",
       "398808                          3502          NaN  11.15.389.2308    NA1   \n",
       "1241011                        34659          NaN   11.3.357.5376    BR1   \n",
       "1303486                        11009          NaN  11.15.389.2308    NA1   \n",
       "\n",
       "               MATCH_ID     ROLE  \n",
       "398808   3993107745_NA1  utility  \n",
       "1241011  2186840449_BR1   middle  \n",
       "1303486  3990915292_NA1  utility  "
      ]
     },
     "execution_count": 7,
     "metadata": {},
     "output_type": "execute_result"
    }
   ],
   "source": [
    "#Check for null values\n",
    "matches[matches.isnull().any(axis=1)]"
   ]
  },
  {
   "cell_type": "markdown",
   "metadata": {},
   "source": [
    "Some records have null values. Drop these"
   ]
  },
  {
   "cell_type": "code",
   "execution_count": 8,
   "metadata": {},
   "outputs": [],
   "source": [
    "null_index = matches[matches.isnull().any(axis=1)].MATCH_ID.index.tolist()\n",
    "matches = matches.drop(index = null_index)\n",
    "# matches = matches[~matches.MATCH_ID.isin(null_match_id)]"
   ]
  },
  {
   "cell_type": "code",
   "execution_count": 9,
   "metadata": {},
   "outputs": [
    {
     "data": {
      "text/plain": [
       "0"
      ]
     },
     "execution_count": 9,
     "metadata": {},
     "output_type": "execute_result"
    }
   ],
   "source": [
    "matches[matches.isnull().any(axis=1)].count().sum()"
   ]
  },
  {
   "cell_type": "markdown",
   "metadata": {},
   "source": [
    "Check for negative values"
   ]
  },
  {
   "cell_type": "code",
   "execution_count": 10,
   "metadata": {},
   "outputs": [
    {
     "data": {
      "text/html": [
       "<div>\n",
       "<style scoped>\n",
       "    .dataframe tbody tr th:only-of-type {\n",
       "        vertical-align: middle;\n",
       "    }\n",
       "\n",
       "    .dataframe tbody tr th {\n",
       "        vertical-align: top;\n",
       "    }\n",
       "\n",
       "    .dataframe thead th {\n",
       "        text-align: right;\n",
       "    }\n",
       "</style>\n",
       "<table border=\"1\" class=\"dataframe\">\n",
       "  <thead>\n",
       "    <tr style=\"text-align: right;\">\n",
       "      <th></th>\n",
       "      <th>GOLDEARNED</th>\n",
       "      <th>TOTALMINIONSKILLED</th>\n",
       "      <th>WIN</th>\n",
       "      <th>KILLS</th>\n",
       "      <th>ASSISTS</th>\n",
       "      <th>DEATHS</th>\n",
       "      <th>CHAMPION</th>\n",
       "      <th>VISIONSCORE</th>\n",
       "      <th>PUUID</th>\n",
       "      <th>TOTALDAMAGEDEALTTOCHAMPIONS</th>\n",
       "      <th>SUMMONERNAME</th>\n",
       "      <th>GAMEVERSION</th>\n",
       "      <th>REGION</th>\n",
       "      <th>MATCH_ID</th>\n",
       "      <th>ROLE</th>\n",
       "    </tr>\n",
       "  </thead>\n",
       "  <tbody>\n",
       "    <tr>\n",
       "      <th>124050</th>\n",
       "      <td>15365</td>\n",
       "      <td>22</td>\n",
       "      <td>True</td>\n",
       "      <td>6</td>\n",
       "      <td>11</td>\n",
       "      <td>9</td>\n",
       "      <td>Viego</td>\n",
       "      <td>25</td>\n",
       "      <td>NDFyJQKzbvK2qM4KwLhEDVAmRfRSbOUWKWGuLGEgHvqb-N...</td>\n",
       "      <td>-2147483648</td>\n",
       "      <td>I am Not PogPP</td>\n",
       "      <td>11.5.361.3108</td>\n",
       "      <td>TR1</td>\n",
       "      <td>1149701131_TR1</td>\n",
       "      <td>jungle</td>\n",
       "    </tr>\n",
       "  </tbody>\n",
       "</table>\n",
       "</div>"
      ],
      "text/plain": [
       "        GOLDEARNED  TOTALMINIONSKILLED   WIN  KILLS  ASSISTS  DEATHS CHAMPION  \\\n",
       "124050       15365                  22  True      6       11       9    Viego   \n",
       "\n",
       "        VISIONSCORE                                              PUUID  \\\n",
       "124050           25  NDFyJQKzbvK2qM4KwLhEDVAmRfRSbOUWKWGuLGEgHvqb-N...   \n",
       "\n",
       "        TOTALDAMAGEDEALTTOCHAMPIONS    SUMMONERNAME    GAMEVERSION REGION  \\\n",
       "124050                  -2147483648  I am Not PogPP  11.5.361.3108    TR1   \n",
       "\n",
       "              MATCH_ID    ROLE  \n",
       "124050  1149701131_TR1  jungle  "
      ]
     },
     "execution_count": 10,
     "metadata": {},
     "output_type": "execute_result"
    }
   ],
   "source": [
    "numeric_columns = matches._get_numeric_data().columns\n",
    "matches[matches[numeric_columns].values < 0]"
   ]
  },
  {
   "cell_type": "markdown",
   "metadata": {},
   "source": [
    "Some records have negative values. Drop these"
   ]
  },
  {
   "cell_type": "code",
   "execution_count": 11,
   "metadata": {},
   "outputs": [],
   "source": [
    "invalid_index = matches[matches[numeric_columns].values < 0].MATCH_ID.index.tolist()\n",
    "matches = matches.drop(index=invalid_index)\n",
    "# matches = matches[~matches.MATCH_ID.isin(invalid_match_id)]"
   ]
  },
  {
   "cell_type": "code",
   "execution_count": 12,
   "metadata": {},
   "outputs": [
    {
     "data": {
      "text/plain": [
       "0"
      ]
     },
     "execution_count": 12,
     "metadata": {},
     "output_type": "execute_result"
    }
   ],
   "source": [
    "matches[matches[numeric_columns].values < 0].count().sum()"
   ]
  },
  {
   "cell_type": "code",
   "execution_count": 13,
   "metadata": {},
   "outputs": [
    {
     "name": "stdout",
     "output_type": "stream",
     "text": [
      "Index(['GOLDEARNED', 'TOTALMINIONSKILLED', 'WIN', 'KILLS', 'ASSISTS', 'DEATHS',\n",
      "       'CHAMPION', 'VISIONSCORE', 'PUUID', 'TOTALDAMAGEDEALTTOCHAMPIONS',\n",
      "       'SUMMONERNAME', 'GAMEVERSION', 'REGION', 'MATCH_ID', 'ROLE'],\n",
      "      dtype='object')\n",
      "(1312248, 15)\n"
     ]
    }
   ],
   "source": [
    "print(matches.columns)\n",
    "print(matches.shape)"
   ]
  },
  {
   "cell_type": "markdown",
   "metadata": {},
   "source": [
    "## Preprocessing Summary\n",
    "After preprocessing the dataset has 1312248 records, and 15 columns.\n",
    "\n",
    "Two columns were dropped from the dataset\n",
    "\n",
    " - P_MATCH_ID \n",
    " - Unnamed: 13\n",
    "\n",
    "Three columns were added to the dataset\n",
    "\n",
    " - REGION - Region (US, EU, etc.) in which the match was played. Only players from a single region can queue together.\n",
    " - MATCH_ID - Unique identifier for each match in the dataset. Each match must have 10 records\n",
    " - ROLE - The role the player was playing in the match\n"
   ]
  },
  {
   "cell_type": "markdown",
   "metadata": {},
   "source": [
    "## Data Analysis"
   ]
  },
  {
   "cell_type": "markdown",
   "metadata": {},
   "source": [
    "### Correlation Analysis"
   ]
  },
  {
   "cell_type": "code",
   "execution_count": 14,
   "metadata": {},
   "outputs": [],
   "source": [
    "# Correlation for numerical columns\n",
    "numeric_columns = matches._get_numeric_data().columns \n",
    "matches_num = matches[numeric_columns]"
   ]
  },
  {
   "cell_type": "code",
   "execution_count": 15,
   "metadata": {},
   "outputs": [
    {
     "data": {
      "image/png": "[encoded data removed]",
      "text/plain": [
       "<Figure size 432x288 with 2 Axes>"
      ]
     },
     "metadata": {
      "needs_background": "light"
     },
     "output_type": "display_data"
    }
   ],
   "source": [
    "# FInding out the correlation between different features in the matrix \n",
    "plt.figure()\n",
    "corrMatrix = matches_num.corr()\n",
    "sn.heatmap(corrMatrix)#, annot=True)\n",
    "plt.show()"
   ]
  },
  {
   "cell_type": "markdown",
   "metadata": {},
   "source": [
    "#### Inference\n",
    "- It can be observed from the correlation matrix that Kills, Assits and Gold earned have a stronger correlation with Winning than other factors.\n",
    "   - Interstingly Assists has a higher corelation than kills.\n",
    "- Deaths has a strong negative correlation, meaning higher the number of deaths lesser the probablity of wining "
   ]
  },
  {
   "cell_type": "markdown",
   "metadata": {},
   "source": [
    "### Feature Distributions"
   ]
  },
  {
   "cell_type": "code",
   "execution_count": 16,
   "metadata": {},
   "outputs": [
    {
     "data": {
      "text/plain": [
       "<Figure size 432x288 with 0 Axes>"
      ]
     },
     "metadata": {},
     "output_type": "display_data"
    },
    {
     "data": {
      "image/png": "[encoded data removed]",
      "text/plain": [
       "<Figure size 1080x720 with 9 Axes>"
      ]
     },
     "metadata": {
      "needs_background": "light"
     },
     "output_type": "display_data"
    }
   ],
   "source": [
    "# plotting to understand the distribution of each feature\n",
    "plt.figure()\n",
    "matches.hist(bins=30, figsize=(15, 10))\n",
    "plt.show()"
   ]
  },
  {
   "cell_type": "markdown",
   "metadata": {},
   "source": [
    "### Feature Distribution of wins and losses"
   ]
  },
  {
   "cell_type": "code",
   "execution_count": 17,
   "metadata": {},
   "outputs": [
    {
     "data": {
      "text/html": [
       "<div>\n",
       "<style scoped>\n",
       "    .dataframe tbody tr th:only-of-type {\n",
       "        vertical-align: middle;\n",
       "    }\n",
       "\n",
       "    .dataframe tbody tr th {\n",
       "        vertical-align: top;\n",
       "    }\n",
       "\n",
       "    .dataframe thead th {\n",
       "        text-align: right;\n",
       "    }\n",
       "</style>\n",
       "<table border=\"1\" class=\"dataframe\">\n",
       "  <thead>\n",
       "    <tr style=\"text-align: right;\">\n",
       "      <th></th>\n",
       "      <th>WIN</th>\n",
       "      <th>GOLDEARNED</th>\n",
       "      <th>TOTALMINIONSKILLED</th>\n",
       "      <th>KILLS</th>\n",
       "      <th>ASSISTS</th>\n",
       "      <th>DEATHS</th>\n",
       "      <th>VISIONSCORE</th>\n",
       "      <th>TOTALDAMAGEDEALTTOCHAMPIONS</th>\n",
       "    </tr>\n",
       "  </thead>\n",
       "  <tbody>\n",
       "    <tr>\n",
       "      <th>0</th>\n",
       "      <td>False</td>\n",
       "      <td>9334.808251</td>\n",
       "      <td>108.632406</td>\n",
       "      <td>4.184977</td>\n",
       "      <td>5.943879</td>\n",
       "      <td>6.669664</td>\n",
       "      <td>24.678584</td>\n",
       "      <td>14262.776372</td>\n",
       "    </tr>\n",
       "    <tr>\n",
       "      <th>1</th>\n",
       "      <td>True</td>\n",
       "      <td>11210.007871</td>\n",
       "      <td>113.778874</td>\n",
       "      <td>6.665630</td>\n",
       "      <td>9.762484</td>\n",
       "      <td>4.197897</td>\n",
       "      <td>27.892373</td>\n",
       "      <td>17049.371893</td>\n",
       "    </tr>\n",
       "  </tbody>\n",
       "</table>\n",
       "</div>"
      ],
      "text/plain": [
       "     WIN    GOLDEARNED  TOTALMINIONSKILLED     KILLS   ASSISTS    DEATHS  \\\n",
       "0  False   9334.808251          108.632406  4.184977  5.943879  6.669664   \n",
       "1   True  11210.007871          113.778874  6.665630  9.762484  4.197897   \n",
       "\n",
       "   VISIONSCORE  TOTALDAMAGEDEALTTOCHAMPIONS  \n",
       "0    24.678584                 14262.776372  \n",
       "1    27.892373                 17049.371893  "
      ]
     },
     "execution_count": 17,
     "metadata": {},
     "output_type": "execute_result"
    }
   ],
   "source": [
    "# Grouping by win to find the average values of all wins and losses\n",
    "df_avg = matches_num.groupby(['WIN'], as_index=False).mean()\n",
    "df_avg"
   ]
  },
  {
   "cell_type": "code",
   "execution_count": 18,
   "metadata": {},
   "outputs": [
    {
     "data": {
      "image/png": "[encoded data removed]"
     },
     "metadata": {},
     "output_type": "display_data"
    }
   ],
   "source": [
    "# Using plotly to plot bar graph for each feature and understanding the effect of it on the independent variable\n",
    "import plotly.graph_objects as go\n",
    "fig = make_subplots(rows=3, cols=3, subplot_titles=(\"Kills\",\"Assists\", \"Deaths\",\"Gold Earned\",'Total Minions Killed',\n",
    "                                                   'Vision Score','Total Damage To Champions'))\n",
    "\n",
    "fig.add_trace(\n",
    "    go.Bar( x=df_avg['WIN'], y=df_avg['KILLS']),\n",
    "    row=1, col=1\n",
    ")\n",
    "\n",
    "fig.add_trace(\n",
    "    go.Bar( x=df_avg['WIN'], y=df_avg['ASSISTS']),\n",
    "    row=1, col=2\n",
    ")\n",
    "fig.add_trace(\n",
    "    go.Bar( x=df_avg['WIN'], y=df_avg['DEATHS']),\n",
    "    row=1, col=3\n",
    ")\n",
    "fig.add_trace(\n",
    "    go.Bar( x=df_avg['WIN'], y=df_avg['GOLDEARNED']),\n",
    "    row=2, col=1\n",
    ")\n",
    "fig.add_trace(\n",
    "    go.Bar( x=df_avg['WIN'], y=df_avg['TOTALMINIONSKILLED']),\n",
    "    row=2, col=2\n",
    ")\n",
    "fig.add_trace(\n",
    "    go.Bar( x=df_avg['WIN'], y=df_avg['VISIONSCORE']),\n",
    "    row=2, col=3\n",
    ")\n",
    "fig.add_trace(\n",
    "    go.Bar( x=df_avg['WIN'], y=df_avg['TOTALDAMAGEDEALTTOCHAMPIONS']),\n",
    "    row=3, col=1\n",
    ")\n",
    "\n",
    "fig.update_layout(height=1000, width=900, showlegend=False,title_text=\"EDA - Analysing each independent feature on the dependent\")\n",
    "fig.show(\"png\")\n",
    "\n"
   ]
  },
  {
   "cell_type": "markdown",
   "metadata": {},
   "source": [
    "#### Inference\n",
    "\n",
    "- It can be observed that average number of kills and assists is higher for winning players.\n",
    "- Average deaths is higher for the loosing players, indicating that loosing teams die more.\n",
    "- Total minions killed is nearly the same for both the winning and loosing teams with winning team having slightly higher minion kills.\n",
    "- Winning players have more gold earned and have dealt more damage to champions.\n",
    "- It can be inferred from the bar graphs that Kills, Assists, Deaths, Gold Earned, Total Damage to Champions is vital in deciding who wins or losses "
   ]
  },
  {
   "cell_type": "markdown",
   "metadata": {},
   "source": [
    "### Feature Averages by region"
   ]
  },
  {
   "cell_type": "code",
   "execution_count": 19,
   "metadata": {},
   "outputs": [
    {
     "data": {
      "text/html": [
       "<div>\n",
       "<style scoped>\n",
       "    .dataframe tbody tr th:only-of-type {\n",
       "        vertical-align: middle;\n",
       "    }\n",
       "\n",
       "    .dataframe tbody tr th {\n",
       "        vertical-align: top;\n",
       "    }\n",
       "\n",
       "    .dataframe thead th {\n",
       "        text-align: right;\n",
       "    }\n",
       "</style>\n",
       "<table border=\"1\" class=\"dataframe\">\n",
       "  <thead>\n",
       "    <tr style=\"text-align: right;\">\n",
       "      <th></th>\n",
       "      <th>WIN</th>\n",
       "      <th>REGION</th>\n",
       "      <th>GOLDEARNED</th>\n",
       "      <th>TOTALMINIONSKILLED</th>\n",
       "      <th>KILLS</th>\n",
       "      <th>ASSISTS</th>\n",
       "      <th>DEATHS</th>\n",
       "      <th>VISIONSCORE</th>\n",
       "      <th>TOTALDAMAGEDEALTTOCHAMPIONS</th>\n",
       "    </tr>\n",
       "  </thead>\n",
       "  <tbody>\n",
       "    <tr>\n",
       "      <th>0</th>\n",
       "      <td>False</td>\n",
       "      <td>BR1</td>\n",
       "      <td>9569.703907</td>\n",
       "      <td>108.866762</td>\n",
       "      <td>4.477288</td>\n",
       "      <td>6.230531</td>\n",
       "      <td>6.951157</td>\n",
       "      <td>24.981590</td>\n",
       "      <td>14850.509069</td>\n",
       "    </tr>\n",
       "    <tr>\n",
       "      <th>1</th>\n",
       "      <td>False</td>\n",
       "      <td>EUN1</td>\n",
       "      <td>9601.643202</td>\n",
       "      <td>108.933287</td>\n",
       "      <td>4.439343</td>\n",
       "      <td>6.165974</td>\n",
       "      <td>6.971851</td>\n",
       "      <td>23.870431</td>\n",
       "      <td>15056.121653</td>\n",
       "    </tr>\n",
       "    <tr>\n",
       "      <th>2</th>\n",
       "      <td>False</td>\n",
       "      <td>EUW1</td>\n",
       "      <td>9442.107856</td>\n",
       "      <td>112.220425</td>\n",
       "      <td>4.125964</td>\n",
       "      <td>5.882812</td>\n",
       "      <td>6.640704</td>\n",
       "      <td>25.349837</td>\n",
       "      <td>14386.359962</td>\n",
       "    </tr>\n",
       "    <tr>\n",
       "      <th>3</th>\n",
       "      <td>False</td>\n",
       "      <td>JP1</td>\n",
       "      <td>9093.217773</td>\n",
       "      <td>110.429991</td>\n",
       "      <td>3.760889</td>\n",
       "      <td>5.583163</td>\n",
       "      <td>6.312189</td>\n",
       "      <td>25.308097</td>\n",
       "      <td>13354.591640</td>\n",
       "    </tr>\n",
       "    <tr>\n",
       "      <th>4</th>\n",
       "      <td>False</td>\n",
       "      <td>KR</td>\n",
       "      <td>8560.849123</td>\n",
       "      <td>103.471931</td>\n",
       "      <td>3.633102</td>\n",
       "      <td>5.336727</td>\n",
       "      <td>6.063472</td>\n",
       "      <td>23.708676</td>\n",
       "      <td>12596.096660</td>\n",
       "    </tr>\n",
       "    <tr>\n",
       "      <th>5</th>\n",
       "      <td>False</td>\n",
       "      <td>LA1</td>\n",
       "      <td>9400.650426</td>\n",
       "      <td>109.837606</td>\n",
       "      <td>4.008143</td>\n",
       "      <td>5.945713</td>\n",
       "      <td>6.415732</td>\n",
       "      <td>26.514051</td>\n",
       "      <td>14290.637897</td>\n",
       "    </tr>\n",
       "    <tr>\n",
       "      <th>6</th>\n",
       "      <td>False</td>\n",
       "      <td>LA2</td>\n",
       "      <td>9357.916197</td>\n",
       "      <td>109.098822</td>\n",
       "      <td>4.087814</td>\n",
       "      <td>5.926267</td>\n",
       "      <td>6.526114</td>\n",
       "      <td>26.244496</td>\n",
       "      <td>14261.474484</td>\n",
       "    </tr>\n",
       "    <tr>\n",
       "      <th>7</th>\n",
       "      <td>False</td>\n",
       "      <td>NA1</td>\n",
       "      <td>9108.243044</td>\n",
       "      <td>108.688039</td>\n",
       "      <td>3.854923</td>\n",
       "      <td>5.663113</td>\n",
       "      <td>6.323395</td>\n",
       "      <td>24.625426</td>\n",
       "      <td>13484.531738</td>\n",
       "    </tr>\n",
       "    <tr>\n",
       "      <th>8</th>\n",
       "      <td>False</td>\n",
       "      <td>RU</td>\n",
       "      <td>9736.653012</td>\n",
       "      <td>109.893976</td>\n",
       "      <td>4.515663</td>\n",
       "      <td>6.378313</td>\n",
       "      <td>7.130120</td>\n",
       "      <td>24.253012</td>\n",
       "      <td>15138.204819</td>\n",
       "    </tr>\n",
       "    <tr>\n",
       "      <th>9</th>\n",
       "      <td>False</td>\n",
       "      <td>TR1</td>\n",
       "      <td>9565.851087</td>\n",
       "      <td>105.754676</td>\n",
       "      <td>4.703310</td>\n",
       "      <td>6.359390</td>\n",
       "      <td>7.316473</td>\n",
       "      <td>22.437212</td>\n",
       "      <td>15130.501573</td>\n",
       "    </tr>\n",
       "    <tr>\n",
       "      <th>10</th>\n",
       "      <td>True</td>\n",
       "      <td>BR1</td>\n",
       "      <td>11413.034605</td>\n",
       "      <td>113.796825</td>\n",
       "      <td>6.946881</td>\n",
       "      <td>9.894604</td>\n",
       "      <td>4.489230</td>\n",
       "      <td>28.033613</td>\n",
       "      <td>17668.444339</td>\n",
       "    </tr>\n",
       "    <tr>\n",
       "      <th>11</th>\n",
       "      <td>True</td>\n",
       "      <td>EUN1</td>\n",
       "      <td>11496.664005</td>\n",
       "      <td>113.788567</td>\n",
       "      <td>6.966398</td>\n",
       "      <td>9.973053</td>\n",
       "      <td>4.452299</td>\n",
       "      <td>27.044821</td>\n",
       "      <td>17929.542471</td>\n",
       "    </tr>\n",
       "    <tr>\n",
       "      <th>12</th>\n",
       "      <td>True</td>\n",
       "      <td>EUW1</td>\n",
       "      <td>11341.461119</td>\n",
       "      <td>117.367754</td>\n",
       "      <td>6.635492</td>\n",
       "      <td>9.767986</td>\n",
       "      <td>4.138834</td>\n",
       "      <td>28.648355</td>\n",
       "      <td>17222.375981</td>\n",
       "    </tr>\n",
       "    <tr>\n",
       "      <th>13</th>\n",
       "      <td>True</td>\n",
       "      <td>JP1</td>\n",
       "      <td>11011.111663</td>\n",
       "      <td>115.365390</td>\n",
       "      <td>6.314528</td>\n",
       "      <td>9.777258</td>\n",
       "      <td>3.773458</td>\n",
       "      <td>28.734873</td>\n",
       "      <td>16252.134464</td>\n",
       "    </tr>\n",
       "    <tr>\n",
       "      <th>14</th>\n",
       "      <td>True</td>\n",
       "      <td>KR</td>\n",
       "      <td>10427.895783</td>\n",
       "      <td>109.508746</td>\n",
       "      <td>6.058668</td>\n",
       "      <td>9.261780</td>\n",
       "      <td>3.644964</td>\n",
       "      <td>27.036069</td>\n",
       "      <td>15172.247814</td>\n",
       "    </tr>\n",
       "    <tr>\n",
       "      <th>15</th>\n",
       "      <td>True</td>\n",
       "      <td>LA1</td>\n",
       "      <td>11284.336706</td>\n",
       "      <td>114.270845</td>\n",
       "      <td>6.411724</td>\n",
       "      <td>9.789970</td>\n",
       "      <td>4.021853</td>\n",
       "      <td>29.970305</td>\n",
       "      <td>17099.563434</td>\n",
       "    </tr>\n",
       "    <tr>\n",
       "      <th>16</th>\n",
       "      <td>True</td>\n",
       "      <td>LA2</td>\n",
       "      <td>11231.861253</td>\n",
       "      <td>113.866206</td>\n",
       "      <td>6.521260</td>\n",
       "      <td>9.787910</td>\n",
       "      <td>4.102715</td>\n",
       "      <td>29.714481</td>\n",
       "      <td>17067.017503</td>\n",
       "    </tr>\n",
       "    <tr>\n",
       "      <th>17</th>\n",
       "      <td>True</td>\n",
       "      <td>NA1</td>\n",
       "      <td>10991.149418</td>\n",
       "      <td>113.827204</td>\n",
       "      <td>6.319946</td>\n",
       "      <td>9.637403</td>\n",
       "      <td>3.869391</td>\n",
       "      <td>27.934557</td>\n",
       "      <td>16182.886982</td>\n",
       "    </tr>\n",
       "    <tr>\n",
       "      <th>18</th>\n",
       "      <td>True</td>\n",
       "      <td>RU</td>\n",
       "      <td>11629.118072</td>\n",
       "      <td>113.951807</td>\n",
       "      <td>7.168675</td>\n",
       "      <td>10.484337</td>\n",
       "      <td>4.515663</td>\n",
       "      <td>26.662651</td>\n",
       "      <td>18377.783133</td>\n",
       "    </tr>\n",
       "    <tr>\n",
       "      <th>19</th>\n",
       "      <td>True</td>\n",
       "      <td>TR1</td>\n",
       "      <td>11487.331633</td>\n",
       "      <td>111.418535</td>\n",
       "      <td>7.320788</td>\n",
       "      <td>10.099758</td>\n",
       "      <td>4.719558</td>\n",
       "      <td>25.476810</td>\n",
       "      <td>18107.432499</td>\n",
       "    </tr>\n",
       "  </tbody>\n",
       "</table>\n",
       "</div>"
      ],
      "text/plain": [
       "      WIN REGION    GOLDEARNED  TOTALMINIONSKILLED     KILLS    ASSISTS  \\\n",
       "0   False    BR1   9569.703907          108.866762  4.477288   6.230531   \n",
       "1   False   EUN1   9601.643202          108.933287  4.439343   6.165974   \n",
       "2   False   EUW1   9442.107856          112.220425  4.125964   5.882812   \n",
       "3   False    JP1   9093.217773          110.429991  3.760889   5.583163   \n",
       "4   False     KR   8560.849123          103.471931  3.633102   5.336727   \n",
       "5   False    LA1   9400.650426          109.837606  4.008143   5.945713   \n",
       "6   False    LA2   9357.916197          109.098822  4.087814   5.926267   \n",
       "7   False    NA1   9108.243044          108.688039  3.854923   5.663113   \n",
       "8   False     RU   9736.653012          109.893976  4.515663   6.378313   \n",
       "9   False    TR1   9565.851087          105.754676  4.703310   6.359390   \n",
       "10   True    BR1  11413.034605          113.796825  6.946881   9.894604   \n",
       "11   True   EUN1  11496.664005          113.788567  6.966398   9.973053   \n",
       "12   True   EUW1  11341.461119          117.367754  6.635492   9.767986   \n",
       "13   True    JP1  11011.111663          115.365390  6.314528   9.777258   \n",
       "14   True     KR  10427.895783          109.508746  6.058668   9.261780   \n",
       "15   True    LA1  11284.336706          114.270845  6.411724   9.789970   \n",
       "16   True    LA2  11231.861253          113.866206  6.521260   9.787910   \n",
       "17   True    NA1  10991.149418          113.827204  6.319946   9.637403   \n",
       "18   True     RU  11629.118072          113.951807  7.168675  10.484337   \n",
       "19   True    TR1  11487.331633          111.418535  7.320788  10.099758   \n",
       "\n",
       "      DEATHS  VISIONSCORE  TOTALDAMAGEDEALTTOCHAMPIONS  \n",
       "0   6.951157    24.981590                 14850.509069  \n",
       "1   6.971851    23.870431                 15056.121653  \n",
       "2   6.640704    25.349837                 14386.359962  \n",
       "3   6.312189    25.308097                 13354.591640  \n",
       "4   6.063472    23.708676                 12596.096660  \n",
       "5   6.415732    26.514051                 14290.637897  \n",
       "6   6.526114    26.244496                 14261.474484  \n",
       "7   6.323395    24.625426                 13484.531738  \n",
       "8   7.130120    24.253012                 15138.204819  \n",
       "9   7.316473    22.437212                 15130.501573  \n",
       "10  4.489230    28.033613                 17668.444339  \n",
       "11  4.452299    27.044821                 17929.542471  \n",
       "12  4.138834    28.648355                 17222.375981  \n",
       "13  3.773458    28.734873                 16252.134464  \n",
       "14  3.644964    27.036069                 15172.247814  \n",
       "15  4.021853    29.970305                 17099.563434  \n",
       "16  4.102715    29.714481                 17067.017503  \n",
       "17  3.869391    27.934557                 16182.886982  \n",
       "18  4.515663    26.662651                 18377.783133  \n",
       "19  4.719558    25.476810                 18107.432499  "
      ]
     },
     "execution_count": 19,
     "metadata": {},
     "output_type": "execute_result"
    }
   ],
   "source": [
    "# Groupying by region to better understand the traits \n",
    "df_avg_region = matches.groupby(['WIN','REGION'], as_index=False).mean()\n",
    "df_avg_region"
   ]
  },
  {
   "cell_type": "markdown",
   "metadata": {},
   "source": [
    "### Experimental Analysis\n",
    "This section might be useful in the future"
   ]
  },
  {
   "cell_type": "code",
   "execution_count": 20,
   "metadata": {},
   "outputs": [],
   "source": [
    "# Creating player rating \n",
    "# Based on the data available, we are giving rating to each player based on the number of wins\n",
    "\n",
    "extract = matches[matches['WIN']==True][['PUUID','WIN']]\n",
    "count = extract.groupby(['PUUID'],as_index=False).count()\n",
    "# Beginer -> 0 to 10 wins \n",
    "# Intermediate -> 10 to 50 wins \n",
    "# Advanced -> 50 to 500 wins \n",
    "count['Rating']=pd.cut(count['WIN'], bins=[0,10,50,500], labels=['Beginer','Intermediate','Advanced'])"
   ]
  },
  {
   "cell_type": "code",
   "execution_count": 21,
   "metadata": {},
   "outputs": [],
   "source": [
    "# Merging the player rating it back to the orginal data\n",
    "matches_merged=matches.copy()\n",
    "matches_merged=matches_merged.merge(count[['Rating','PUUID']],on='PUUID',how='left')\n",
    "# first time players will have NaN after merging, so they will be denoted as Beginer \n",
    "matches_merged['Rating']=matches_merged['Rating'].fillna('Beginer') "
   ]
  },
  {
   "cell_type": "code",
   "execution_count": 22,
   "metadata": {},
   "outputs": [
    {
     "data": {
      "text/html": [
       "<div>\n",
       "<style scoped>\n",
       "    .dataframe tbody tr th:only-of-type {\n",
       "        vertical-align: middle;\n",
       "    }\n",
       "\n",
       "    .dataframe tbody tr th {\n",
       "        vertical-align: top;\n",
       "    }\n",
       "\n",
       "    .dataframe thead th {\n",
       "        text-align: right;\n",
       "    }\n",
       "</style>\n",
       "<table border=\"1\" class=\"dataframe\">\n",
       "  <thead>\n",
       "    <tr style=\"text-align: right;\">\n",
       "      <th></th>\n",
       "      <th>Rating</th>\n",
       "      <th>WIN</th>\n",
       "      <th>GOLDEARNED</th>\n",
       "      <th>TOTALMINIONSKILLED</th>\n",
       "      <th>KILLS</th>\n",
       "      <th>ASSISTS</th>\n",
       "      <th>DEATHS</th>\n",
       "      <th>CHAMPION</th>\n",
       "      <th>VISIONSCORE</th>\n",
       "      <th>PUUID</th>\n",
       "      <th>TOTALDAMAGEDEALTTOCHAMPIONS</th>\n",
       "      <th>SUMMONERNAME</th>\n",
       "      <th>GAMEVERSION</th>\n",
       "      <th>REGION</th>\n",
       "      <th>MATCH_ID</th>\n",
       "      <th>ROLE</th>\n",
       "    </tr>\n",
       "  </thead>\n",
       "  <tbody>\n",
       "    <tr>\n",
       "      <th>0</th>\n",
       "      <td>Beginer</td>\n",
       "      <td>False</td>\n",
       "      <td>447175</td>\n",
       "      <td>447175</td>\n",
       "      <td>447175</td>\n",
       "      <td>447175</td>\n",
       "      <td>447175</td>\n",
       "      <td>447175</td>\n",
       "      <td>447175</td>\n",
       "      <td>447175</td>\n",
       "      <td>447175</td>\n",
       "      <td>447175</td>\n",
       "      <td>447175</td>\n",
       "      <td>447175</td>\n",
       "      <td>447175</td>\n",
       "      <td>447175</td>\n",
       "    </tr>\n",
       "    <tr>\n",
       "      <th>1</th>\n",
       "      <td>Beginer</td>\n",
       "      <td>True</td>\n",
       "      <td>410179</td>\n",
       "      <td>410179</td>\n",
       "      <td>410179</td>\n",
       "      <td>410179</td>\n",
       "      <td>410179</td>\n",
       "      <td>410179</td>\n",
       "      <td>410179</td>\n",
       "      <td>410179</td>\n",
       "      <td>410179</td>\n",
       "      <td>410179</td>\n",
       "      <td>410179</td>\n",
       "      <td>410179</td>\n",
       "      <td>410179</td>\n",
       "      <td>410179</td>\n",
       "    </tr>\n",
       "    <tr>\n",
       "      <th>2</th>\n",
       "      <td>Intermediate</td>\n",
       "      <td>False</td>\n",
       "      <td>187290</td>\n",
       "      <td>187290</td>\n",
       "      <td>187290</td>\n",
       "      <td>187290</td>\n",
       "      <td>187290</td>\n",
       "      <td>187290</td>\n",
       "      <td>187290</td>\n",
       "      <td>187290</td>\n",
       "      <td>187290</td>\n",
       "      <td>187290</td>\n",
       "      <td>187290</td>\n",
       "      <td>187290</td>\n",
       "      <td>187290</td>\n",
       "      <td>187290</td>\n",
       "    </tr>\n",
       "    <tr>\n",
       "      <th>3</th>\n",
       "      <td>Intermediate</td>\n",
       "      <td>True</td>\n",
       "      <td>219199</td>\n",
       "      <td>219199</td>\n",
       "      <td>219199</td>\n",
       "      <td>219199</td>\n",
       "      <td>219199</td>\n",
       "      <td>219199</td>\n",
       "      <td>219199</td>\n",
       "      <td>219199</td>\n",
       "      <td>219199</td>\n",
       "      <td>219199</td>\n",
       "      <td>219199</td>\n",
       "      <td>219199</td>\n",
       "      <td>219199</td>\n",
       "      <td>219199</td>\n",
       "    </tr>\n",
       "    <tr>\n",
       "      <th>4</th>\n",
       "      <td>Advanced</td>\n",
       "      <td>False</td>\n",
       "      <td>21710</td>\n",
       "      <td>21710</td>\n",
       "      <td>21710</td>\n",
       "      <td>21710</td>\n",
       "      <td>21710</td>\n",
       "      <td>21710</td>\n",
       "      <td>21710</td>\n",
       "      <td>21710</td>\n",
       "      <td>21710</td>\n",
       "      <td>21710</td>\n",
       "      <td>21710</td>\n",
       "      <td>21710</td>\n",
       "      <td>21710</td>\n",
       "      <td>21710</td>\n",
       "    </tr>\n",
       "    <tr>\n",
       "      <th>5</th>\n",
       "      <td>Advanced</td>\n",
       "      <td>True</td>\n",
       "      <td>26695</td>\n",
       "      <td>26695</td>\n",
       "      <td>26695</td>\n",
       "      <td>26695</td>\n",
       "      <td>26695</td>\n",
       "      <td>26695</td>\n",
       "      <td>26695</td>\n",
       "      <td>26695</td>\n",
       "      <td>26695</td>\n",
       "      <td>26695</td>\n",
       "      <td>26695</td>\n",
       "      <td>26695</td>\n",
       "      <td>26695</td>\n",
       "      <td>26695</td>\n",
       "    </tr>\n",
       "  </tbody>\n",
       "</table>\n",
       "</div>"
      ],
      "text/plain": [
       "         Rating    WIN  GOLDEARNED  TOTALMINIONSKILLED   KILLS  ASSISTS  \\\n",
       "0       Beginer  False      447175              447175  447175   447175   \n",
       "1       Beginer   True      410179              410179  410179   410179   \n",
       "2  Intermediate  False      187290              187290  187290   187290   \n",
       "3  Intermediate   True      219199              219199  219199   219199   \n",
       "4      Advanced  False       21710               21710   21710    21710   \n",
       "5      Advanced   True       26695               26695   26695    26695   \n",
       "\n",
       "   DEATHS  CHAMPION  VISIONSCORE   PUUID  TOTALDAMAGEDEALTTOCHAMPIONS  \\\n",
       "0  447175    447175       447175  447175                       447175   \n",
       "1  410179    410179       410179  410179                       410179   \n",
       "2  187290    187290       187290  187290                       187290   \n",
       "3  219199    219199       219199  219199                       219199   \n",
       "4   21710     21710        21710   21710                        21710   \n",
       "5   26695     26695        26695   26695                        26695   \n",
       "\n",
       "   SUMMONERNAME  GAMEVERSION  REGION  MATCH_ID    ROLE  \n",
       "0        447175       447175  447175    447175  447175  \n",
       "1        410179       410179  410179    410179  410179  \n",
       "2        187290       187290  187290    187290  187290  \n",
       "3        219199       219199  219199    219199  219199  \n",
       "4         21710        21710   21710     21710   21710  \n",
       "5         26695        26695   26695     26695   26695  "
      ]
     },
     "execution_count": 22,
     "metadata": {},
     "output_type": "execute_result"
    }
   ],
   "source": [
    "#Finding the win percentage for each player rating  \n",
    "matches_merged.groupby(['Rating','WIN'],as_index=False).count() # finding the number of wins "
   ]
  },
  {
   "cell_type": "code",
   "execution_count": 23,
   "metadata": {},
   "outputs": [],
   "source": [
    "# Creating the Win Percentage for each player rating \n",
    "\n",
    "df_ratio = matches_merged.groupby(['Rating'],as_index=False)['WIN'].count()\n",
    "df_ratio['win_percentage']=np.nan\n",
    "Rating = ['Beginer','Intermediate','Advanced']\n",
    "True_False = {'Beginer':445952, 'Intermediate':190296,'Advanced':19809}\n",
    "for i in Rating: \n",
    "    df_ratio['win_percentage'].loc[(df_ratio.Rating==i)]=(True_False.get(i)/df_ratio[df_ratio.Rating==i]['WIN'])*100\n",
    "    "
   ]
  },
  {
   "cell_type": "code",
   "execution_count": 24,
   "metadata": {},
   "outputs": [
    {
     "data": {
      "text/html": [
       "<div>\n",
       "<style scoped>\n",
       "    .dataframe tbody tr th:only-of-type {\n",
       "        vertical-align: middle;\n",
       "    }\n",
       "\n",
       "    .dataframe tbody tr th {\n",
       "        vertical-align: top;\n",
       "    }\n",
       "\n",
       "    .dataframe thead th {\n",
       "        text-align: right;\n",
       "    }\n",
       "</style>\n",
       "<table border=\"1\" class=\"dataframe\">\n",
       "  <thead>\n",
       "    <tr style=\"text-align: right;\">\n",
       "      <th></th>\n",
       "      <th>Rating</th>\n",
       "      <th>WIN</th>\n",
       "      <th>win_percentage</th>\n",
       "    </tr>\n",
       "  </thead>\n",
       "  <tbody>\n",
       "    <tr>\n",
       "      <th>0</th>\n",
       "      <td>Beginer</td>\n",
       "      <td>857354</td>\n",
       "      <td>52.014920</td>\n",
       "    </tr>\n",
       "    <tr>\n",
       "      <th>1</th>\n",
       "      <td>Intermediate</td>\n",
       "      <td>406489</td>\n",
       "      <td>46.814551</td>\n",
       "    </tr>\n",
       "    <tr>\n",
       "      <th>2</th>\n",
       "      <td>Advanced</td>\n",
       "      <td>48405</td>\n",
       "      <td>40.923458</td>\n",
       "    </tr>\n",
       "  </tbody>\n",
       "</table>\n",
       "</div>"
      ],
      "text/plain": [
       "         Rating     WIN  win_percentage\n",
       "0       Beginer  857354       52.014920\n",
       "1  Intermediate  406489       46.814551\n",
       "2      Advanced   48405       40.923458"
      ]
     },
     "execution_count": 24,
     "metadata": {},
     "output_type": "execute_result"
    }
   ],
   "source": [
    "# win percentage \n",
    "df_ratio"
   ]
  },
  {
   "cell_type": "code",
   "execution_count": 25,
   "metadata": {},
   "outputs": [
    {
     "data": {
      "image/png": "[encoded data removed]",
      "text/plain": [
       "<Figure size 432x288 with 1 Axes>"
      ]
     },
     "metadata": {
      "needs_background": "light"
     },
     "output_type": "display_data"
    }
   ],
   "source": [
    "plt.bar(df_ratio['Rating'],df_ratio.win_percentage)\n",
    "plt.title('Win Percentage')\n",
    "plt.xlabel('Rating')\n",
    "plt.ylabel('Percentage')\n",
    "plt.show()"
   ]
  },
  {
   "cell_type": "markdown",
   "metadata": {},
   "source": [
    "#### Inference \n",
    "- Win percentage across different ratings is almost the same, with advanced players having the highest win percentage\n",
    "- The same win percentage acrosss all levels may be attributed by the fact that players, frequency might differ as some players would play once a week, once a month etc. "
   ]
  },
  {
   "cell_type": "code",
   "execution_count": null,
   "metadata": {
    "scrolled": false
   },
   "outputs": [
    {
     "data": {
      "text/plain": [
       "array([[<AxesSubplot:xlabel='GOLDEARNED', ylabel='GOLDEARNED'>,\n",
       "        <AxesSubplot:xlabel='TOTALMINIONSKILLED', ylabel='GOLDEARNED'>,\n",
       "        <AxesSubplot:xlabel='KILLS', ylabel='GOLDEARNED'>,\n",
       "        <AxesSubplot:xlabel='ASSISTS', ylabel='GOLDEARNED'>,\n",
       "        <AxesSubplot:xlabel='DEATHS', ylabel='GOLDEARNED'>,\n",
       "        <AxesSubplot:xlabel='VISIONSCORE', ylabel='GOLDEARNED'>,\n",
       "        <AxesSubplot:xlabel='TOTALDAMAGEDEALTTOCHAMPIONS', ylabel='GOLDEARNED'>],\n",
       "       [<AxesSubplot:xlabel='GOLDEARNED', ylabel='TOTALMINIONSKILLED'>,\n",
       "        <AxesSubplot:xlabel='TOTALMINIONSKILLED', ylabel='TOTALMINIONSKILLED'>,\n",
       "        <AxesSubplot:xlabel='KILLS', ylabel='TOTALMINIONSKILLED'>,\n",
       "        <AxesSubplot:xlabel='ASSISTS', ylabel='TOTALMINIONSKILLED'>,\n",
       "        <AxesSubplot:xlabel='DEATHS', ylabel='TOTALMINIONSKILLED'>,\n",
       "        <AxesSubplot:xlabel='VISIONSCORE', ylabel='TOTALMINIONSKILLED'>,\n",
       "        <AxesSubplot:xlabel='TOTALDAMAGEDEALTTOCHAMPIONS', ylabel='TOTALMINIONSKILLED'>],\n",
       "       [<AxesSubplot:xlabel='GOLDEARNED', ylabel='KILLS'>,\n",
       "        <AxesSubplot:xlabel='TOTALMINIONSKILLED', ylabel='KILLS'>,\n",
       "        <AxesSubplot:xlabel='KILLS', ylabel='KILLS'>,\n",
       "        <AxesSubplot:xlabel='ASSISTS', ylabel='KILLS'>,\n",
       "        <AxesSubplot:xlabel='DEATHS', ylabel='KILLS'>,\n",
       "        <AxesSubplot:xlabel='VISIONSCORE', ylabel='KILLS'>,\n",
       "        <AxesSubplot:xlabel='TOTALDAMAGEDEALTTOCHAMPIONS', ylabel='KILLS'>],\n",
       "       [<AxesSubplot:xlabel='GOLDEARNED', ylabel='ASSISTS'>,\n",
       "        <AxesSubplot:xlabel='TOTALMINIONSKILLED', ylabel='ASSISTS'>,\n",
       "        <AxesSubplot:xlabel='KILLS', ylabel='ASSISTS'>,\n",
       "        <AxesSubplot:xlabel='ASSISTS', ylabel='ASSISTS'>,\n",
       "        <AxesSubplot:xlabel='DEATHS', ylabel='ASSISTS'>,\n",
       "        <AxesSubplot:xlabel='VISIONSCORE', ylabel='ASSISTS'>,\n",
       "        <AxesSubplot:xlabel='TOTALDAMAGEDEALTTOCHAMPIONS', ylabel='ASSISTS'>],\n",
       "       [<AxesSubplot:xlabel='GOLDEARNED', ylabel='DEATHS'>,\n",
       "        <AxesSubplot:xlabel='TOTALMINIONSKILLED', ylabel='DEATHS'>,\n",
       "        <AxesSubplot:xlabel='KILLS', ylabel='DEATHS'>,\n",
       "        <AxesSubplot:xlabel='ASSISTS', ylabel='DEATHS'>,\n",
       "        <AxesSubplot:xlabel='DEATHS', ylabel='DEATHS'>,\n",
       "        <AxesSubplot:xlabel='VISIONSCORE', ylabel='DEATHS'>,\n",
       "        <AxesSubplot:xlabel='TOTALDAMAGEDEALTTOCHAMPIONS', ylabel='DEATHS'>],\n",
       "       [<AxesSubplot:xlabel='GOLDEARNED', ylabel='VISIONSCORE'>,\n",
       "        <AxesSubplot:xlabel='TOTALMINIONSKILLED', ylabel='VISIONSCORE'>,\n",
       "        <AxesSubplot:xlabel='KILLS', ylabel='VISIONSCORE'>,\n",
       "        <AxesSubplot:xlabel='ASSISTS', ylabel='VISIONSCORE'>,\n",
       "        <AxesSubplot:xlabel='DEATHS', ylabel='VISIONSCORE'>,\n",
       "        <AxesSubplot:xlabel='VISIONSCORE', ylabel='VISIONSCORE'>,\n",
       "        <AxesSubplot:xlabel='TOTALDAMAGEDEALTTOCHAMPIONS', ylabel='VISIONSCORE'>],\n",
       "       [<AxesSubplot:xlabel='GOLDEARNED', ylabel='TOTALDAMAGEDEALTTOCHAMPIONS'>,\n",
       "        <AxesSubplot:xlabel='TOTALMINIONSKILLED', ylabel='TOTALDAMAGEDEALTTOCHAMPIONS'>,\n",
       "        <AxesSubplot:xlabel='KILLS', ylabel='TOTALDAMAGEDEALTTOCHAMPIONS'>,\n",
       "        <AxesSubplot:xlabel='ASSISTS', ylabel='TOTALDAMAGEDEALTTOCHAMPIONS'>,\n",
       "        <AxesSubplot:xlabel='DEATHS', ylabel='TOTALDAMAGEDEALTTOCHAMPIONS'>,\n",
       "        <AxesSubplot:xlabel='VISIONSCORE', ylabel='TOTALDAMAGEDEALTTOCHAMPIONS'>,\n",
       "        <AxesSubplot:xlabel='TOTALDAMAGEDEALTTOCHAMPIONS', ylabel='TOTALDAMAGEDEALTTOCHAMPIONS'>]],\n",
       "      dtype=object)"
      ]
     },
     "execution_count": 47,
     "metadata": {},
     "output_type": "execute_result"
    }
   ],
   "source": [
    "# Plotting a scatter matrix to understand the relationship between features\n",
    "df_scatter = matches_merged\n",
    "df_scatter['WIN']=df_scatter['WIN'].astype(int)\n",
    "colors = {0:'blue', 1:'red'}\n",
    "pd.plotting.scatter_matrix(df_scatter[['GOLDEARNED', 'TOTALMINIONSKILLED', 'KILLS', 'ASSISTS', 'DEATHS',\n",
    "       'CHAMPION', 'VISIONSCORE', 'TOTALDAMAGEDEALTTOCHAMPIONS',\n",
    "       'SUMMONERNAME', 'REGION', 'MATCH_ID', 'ROLE', 'PUUID', 'Rating']],figsize=(30,30),grid=True,\n",
    "                           marker='o', c= df_scatter['WIN'].map(colors))\n"
   ]
  },
  {
   "cell_type": "markdown",
   "metadata": {},
   "source": [
    "### Champion Statistics\n",
    "\n",
    "Total unique champions"
   ]
  },
  {
   "cell_type": "code",
   "execution_count": 27,
   "metadata": {},
   "outputs": [
    {
     "data": {
      "text/plain": [
       "156"
      ]
     },
     "execution_count": 27,
     "metadata": {},
     "output_type": "execute_result"
    }
   ],
   "source": [
    "#finding the unique champions in the dataframe\n",
    "champs = matches.CHAMPION.unique().tolist()\n",
    "len(champs)"
   ]
  },
  {
   "cell_type": "markdown",
   "metadata": {},
   "source": [
    "### Champion feature averages"
   ]
  },
  {
   "cell_type": "code",
   "execution_count": 28,
   "metadata": {},
   "outputs": [
    {
     "data": {
      "text/html": [
       "<div>\n",
       "<style scoped>\n",
       "    .dataframe tbody tr th:only-of-type {\n",
       "        vertical-align: middle;\n",
       "    }\n",
       "\n",
       "    .dataframe tbody tr th {\n",
       "        vertical-align: top;\n",
       "    }\n",
       "\n",
       "    .dataframe thead th {\n",
       "        text-align: right;\n",
       "    }\n",
       "</style>\n",
       "<table border=\"1\" class=\"dataframe\">\n",
       "  <thead>\n",
       "    <tr style=\"text-align: right;\">\n",
       "      <th></th>\n",
       "      <th>GOLDEARNED</th>\n",
       "      <th>TOTALMINIONSKILLED</th>\n",
       "      <th>WIN</th>\n",
       "      <th>KILLS</th>\n",
       "      <th>ASSISTS</th>\n",
       "      <th>DEATHS</th>\n",
       "      <th>VISIONSCORE</th>\n",
       "      <th>TOTALDAMAGEDEALTTOCHAMPIONS</th>\n",
       "    </tr>\n",
       "    <tr>\n",
       "      <th>CHAMPION</th>\n",
       "      <th></th>\n",
       "      <th></th>\n",
       "      <th></th>\n",
       "      <th></th>\n",
       "      <th></th>\n",
       "      <th></th>\n",
       "      <th></th>\n",
       "      <th></th>\n",
       "    </tr>\n",
       "  </thead>\n",
       "  <tbody>\n",
       "    <tr>\n",
       "      <th>Aatrox</th>\n",
       "      <td>10349.436676</td>\n",
       "      <td>153.035368</td>\n",
       "      <td>0.508113</td>\n",
       "      <td>5.132835</td>\n",
       "      <td>5.642582</td>\n",
       "      <td>5.225050</td>\n",
       "      <td>17.342127</td>\n",
       "      <td>17413.096183</td>\n",
       "    </tr>\n",
       "    <tr>\n",
       "      <th>Ahri</th>\n",
       "      <td>10362.939693</td>\n",
       "      <td>157.324424</td>\n",
       "      <td>0.503007</td>\n",
       "      <td>5.521884</td>\n",
       "      <td>7.392249</td>\n",
       "      <td>4.870197</td>\n",
       "      <td>22.469262</td>\n",
       "      <td>17648.373204</td>\n",
       "    </tr>\n",
       "    <tr>\n",
       "      <th>Akali</th>\n",
       "      <td>10421.126103</td>\n",
       "      <td>152.142651</td>\n",
       "      <td>0.467329</td>\n",
       "      <td>7.028768</td>\n",
       "      <td>4.815597</td>\n",
       "      <td>5.554735</td>\n",
       "      <td>17.488544</td>\n",
       "      <td>18535.242532</td>\n",
       "    </tr>\n",
       "    <tr>\n",
       "      <th>Akshan</th>\n",
       "      <td>11485.754685</td>\n",
       "      <td>148.080282</td>\n",
       "      <td>0.442324</td>\n",
       "      <td>8.095926</td>\n",
       "      <td>5.888430</td>\n",
       "      <td>6.570053</td>\n",
       "      <td>19.164174</td>\n",
       "      <td>19451.137700</td>\n",
       "    </tr>\n",
       "    <tr>\n",
       "      <th>Alistar</th>\n",
       "      <td>7051.641102</td>\n",
       "      <td>30.994346</td>\n",
       "      <td>0.492444</td>\n",
       "      <td>1.644803</td>\n",
       "      <td>13.039272</td>\n",
       "      <td>5.702066</td>\n",
       "      <td>49.260306</td>\n",
       "      <td>6538.861725</td>\n",
       "    </tr>\n",
       "    <tr>\n",
       "      <th>...</th>\n",
       "      <td>...</td>\n",
       "      <td>...</td>\n",
       "      <td>...</td>\n",
       "      <td>...</td>\n",
       "      <td>...</td>\n",
       "      <td>...</td>\n",
       "      <td>...</td>\n",
       "      <td>...</td>\n",
       "    </tr>\n",
       "    <tr>\n",
       "      <th>Zed</th>\n",
       "      <td>11398.225872</td>\n",
       "      <td>157.906937</td>\n",
       "      <td>0.495238</td>\n",
       "      <td>8.039070</td>\n",
       "      <td>5.050469</td>\n",
       "      <td>5.747207</td>\n",
       "      <td>19.113686</td>\n",
       "      <td>20089.082415</td>\n",
       "    </tr>\n",
       "    <tr>\n",
       "      <th>Ziggs</th>\n",
       "      <td>11050.390338</td>\n",
       "      <td>178.327380</td>\n",
       "      <td>0.513842</td>\n",
       "      <td>4.915521</td>\n",
       "      <td>7.903108</td>\n",
       "      <td>5.137078</td>\n",
       "      <td>19.465708</td>\n",
       "      <td>21854.242722</td>\n",
       "    </tr>\n",
       "    <tr>\n",
       "      <th>Zilean</th>\n",
       "      <td>7938.739095</td>\n",
       "      <td>46.735991</td>\n",
       "      <td>0.527528</td>\n",
       "      <td>2.192942</td>\n",
       "      <td>12.743343</td>\n",
       "      <td>4.633393</td>\n",
       "      <td>48.075314</td>\n",
       "      <td>9263.117955</td>\n",
       "    </tr>\n",
       "    <tr>\n",
       "      <th>Zoe</th>\n",
       "      <td>10110.626382</td>\n",
       "      <td>148.649638</td>\n",
       "      <td>0.497903</td>\n",
       "      <td>6.005909</td>\n",
       "      <td>6.816432</td>\n",
       "      <td>4.898589</td>\n",
       "      <td>21.442623</td>\n",
       "      <td>18628.055280</td>\n",
       "    </tr>\n",
       "    <tr>\n",
       "      <th>Zyra</th>\n",
       "      <td>8759.319091</td>\n",
       "      <td>43.917523</td>\n",
       "      <td>0.498918</td>\n",
       "      <td>3.568956</td>\n",
       "      <td>10.213899</td>\n",
       "      <td>6.350730</td>\n",
       "      <td>56.059492</td>\n",
       "      <td>17885.792591</td>\n",
       "    </tr>\n",
       "  </tbody>\n",
       "</table>\n",
       "<p>156 rows × 8 columns</p>\n",
       "</div>"
      ],
      "text/plain": [
       "            GOLDEARNED  TOTALMINIONSKILLED       WIN     KILLS    ASSISTS  \\\n",
       "CHAMPION                                                                    \n",
       "Aatrox    10349.436676          153.035368  0.508113  5.132835   5.642582   \n",
       "Ahri      10362.939693          157.324424  0.503007  5.521884   7.392249   \n",
       "Akali     10421.126103          152.142651  0.467329  7.028768   4.815597   \n",
       "Akshan    11485.754685          148.080282  0.442324  8.095926   5.888430   \n",
       "Alistar    7051.641102           30.994346  0.492444  1.644803  13.039272   \n",
       "...                ...                 ...       ...       ...        ...   \n",
       "Zed       11398.225872          157.906937  0.495238  8.039070   5.050469   \n",
       "Ziggs     11050.390338          178.327380  0.513842  4.915521   7.903108   \n",
       "Zilean     7938.739095           46.735991  0.527528  2.192942  12.743343   \n",
       "Zoe       10110.626382          148.649638  0.497903  6.005909   6.816432   \n",
       "Zyra       8759.319091           43.917523  0.498918  3.568956  10.213899   \n",
       "\n",
       "            DEATHS  VISIONSCORE  TOTALDAMAGEDEALTTOCHAMPIONS  \n",
       "CHAMPION                                                      \n",
       "Aatrox    5.225050    17.342127                 17413.096183  \n",
       "Ahri      4.870197    22.469262                 17648.373204  \n",
       "Akali     5.554735    17.488544                 18535.242532  \n",
       "Akshan    6.570053    19.164174                 19451.137700  \n",
       "Alistar   5.702066    49.260306                  6538.861725  \n",
       "...            ...          ...                          ...  \n",
       "Zed       5.747207    19.113686                 20089.082415  \n",
       "Ziggs     5.137078    19.465708                 21854.242722  \n",
       "Zilean    4.633393    48.075314                  9263.117955  \n",
       "Zoe       4.898589    21.442623                 18628.055280  \n",
       "Zyra      6.350730    56.059492                 17885.792591  \n",
       "\n",
       "[156 rows x 8 columns]"
      ]
     },
     "execution_count": 28,
     "metadata": {},
     "output_type": "execute_result"
    }
   ],
   "source": [
    "#grouping by champions to fund the average values for each champion \n",
    "matches.groupby(['CHAMPION']).mean()"
   ]
  },
  {
   "cell_type": "markdown",
   "metadata": {},
   "source": [
    "### Champion Win Rate"
   ]
  },
  {
   "cell_type": "code",
   "execution_count": 29,
   "metadata": {},
   "outputs": [
    {
     "data": {
      "image/png": "[encoded data removed]",
      "text/plain": [
       "<Figure size 432x288 with 1 Axes>"
      ]
     },
     "metadata": {
      "needs_background": "light"
     },
     "output_type": "display_data"
    }
   ],
   "source": [
    "#Finding the winrate of champions\n",
    "df_champ_main = matches.copy()\n",
    "df_champ_main = pd.get_dummies(df_champ_main, columns=['WIN'])\n",
    "\n",
    "df_champ = df_champ_main.groupby(['CHAMPION'])['WIN_True','WIN_False'].sum()\n",
    "df_champ['win_percentage']=np.nan\n",
    "\n",
    "for i in df_champ.index.unique(): \n",
    "    n = df_champ[df_champ.index==i]['WIN_True'] + df_champ[df_champ.index==i]['WIN_False']\n",
    "    df_champ['win_percentage'].loc[(df_champ.index==i)]=(df_champ[df_champ.index==i]['WIN_True']/n)*100\n",
    "\n",
    "plt.figure()\n",
    "df_champ.win_percentage.plot.hist(bins = 30)\n",
    "plt.xlabel(\"winrate %\")\n",
    "plt.show()"
   ]
  },
  {
   "cell_type": "markdown",
   "metadata": {},
   "source": [
    "### Champion Win Rate by role"
   ]
  },
  {
   "cell_type": "code",
   "execution_count": 30,
   "metadata": {},
   "outputs": [],
   "source": [
    "#Grouping by role and champion and finding the number of wins and losses \n",
    "df_champ_role = df_champ_main.groupby(['ROLE','CHAMPION'],as_index=False)['WIN_True','WIN_False'].sum()\n",
    "df_champ_role['win_percentage']= df_champ_role['WIN_True']/(df_champ_role['WIN_True']+df_champ_role['WIN_False'])*100"
   ]
  },
  {
   "cell_type": "code",
   "execution_count": 31,
   "metadata": {},
   "outputs": [
    {
     "data": {
      "image/png": "[encoded data removed]",
      "text/plain": [
       "<Figure size 432x288 with 1 Axes>"
      ]
     },
     "metadata": {
      "needs_background": "light"
     },
     "output_type": "display_data"
    }
   ],
   "source": [
    "#Binning the win percentage of champion based on role \n",
    "plt.figure()\n",
    "df_champ_role.win_percentage.plot.hist(bins = 30)\n",
    "plt.xlabel(\"Winrate %\")\n",
    "plt.show()"
   ]
  },
  {
   "cell_type": "markdown",
   "metadata": {},
   "source": [
    "#### Inference\n",
    "- All champion winrates are within the range of 44 to 54 %\n",
    "    - This is expected, since the game is constantly balanced so that all champions have an amlost similar winrate\n",
    "- Champion winrates by rile have a range of 0 to 100 %\n",
    "    - This implies some champions have higer winrates in certain roles\n",
    "\n"
   ]
  },
  {
   "cell_type": "markdown",
   "metadata": {},
   "source": [
    "## Data Preperation for Modelling\n",
    "The matches data frame currently contains all the required features for modelling"
   ]
  },
  {
   "cell_type": "code",
   "execution_count": 46,
   "metadata": {},
   "outputs": [],
   "source": [
    "# save processed dataframe to csv to load\n",
    "matches.to_csv(\"data/matchups_processed.csv\", index = False)"
   ]
  }
 ],
 "metadata": {
  "interpreter": {
   "hash": "a37c187222e1b6fb605381c1d285f7353068b772cd788ed53e35431fd995498d"
  },
  "kernelspec": {
   "display_name": "Python 3",
   "language": "python",
   "name": "python3"
  },
  "language_info": {
   "codemirror_mode": {
    "name": "ipython",
    "version": 3
   },
   "file_extension": ".py",
   "mimetype": "text/x-python",
   "name": "python",
   "nbconvert_exporter": "python",
   "pygments_lexer": "ipython3",
   "version": "3.8.8"
  }
 },
 "nbformat": 4,
 "nbformat_minor": 2
}
