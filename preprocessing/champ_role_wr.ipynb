{
 "cells": [
  {
   "cell_type": "code",
   "execution_count": 1,
   "metadata": {},
   "outputs": [],
   "source": [
    "import pandas as pd\n",
    "import warnings\n",
    "import os\n",
    "warnings.filterwarnings('ignore')\n",
    "import matplotlib.pyplot as plt\n",
    "import seaborn as sns\n",
    "import numpy as np"
   ]
  },
  {
   "cell_type": "code",
   "execution_count": 2,
   "metadata": {},
   "outputs": [],
   "source": [
    "parent_dir = os.path.dirname(os.getcwd())\n",
    "data_path = os.path.join(parent_dir, 'data', 'dataset')"
   ]
  },
  {
   "cell_type": "code",
   "execution_count": 3,
   "metadata": {},
   "outputs": [
    {
     "name": "stdout",
     "output_type": "stream",
     "text": [
      "(1312248, 15)\n"
     ]
    }
   ],
   "source": [
    "dataset = pd.read_csv(os.path.join(data_path, 'dataset.csv'))\n",
    "print(dataset.shape)"
   ]
  },
  {
   "cell_type": "markdown",
   "metadata": {},
   "source": [
    "**CHAMPION ROLE WINRATE**"
   ]
  },
  {
   "cell_type": "code",
   "execution_count": 4,
   "metadata": {},
   "outputs": [],
   "source": [
    "champ_role_dataset = dataset.copy()\n",
    "champ_role_dataset = pd.get_dummies(champ_role_dataset, columns=['WIN'])"
   ]
  },
  {
   "cell_type": "code",
   "execution_count": 5,
   "metadata": {},
   "outputs": [],
   "source": [
    "champ_role_extracted = champ_role_dataset[['CHAMPION','ROLE', 'WIN_True','WIN_False']].reset_index(drop = True)"
   ]
  },
  {
   "cell_type": "code",
   "execution_count": 6,
   "metadata": {},
   "outputs": [
    {
     "data": {
      "text/html": [
       "<div>\n",
       "<style scoped>\n",
       "    .dataframe tbody tr th:only-of-type {\n",
       "        vertical-align: middle;\n",
       "    }\n",
       "\n",
       "    .dataframe tbody tr th {\n",
       "        vertical-align: top;\n",
       "    }\n",
       "\n",
       "    .dataframe thead th {\n",
       "        text-align: right;\n",
       "    }\n",
       "</style>\n",
       "<table border=\"1\" class=\"dataframe\">\n",
       "  <thead>\n",
       "    <tr style=\"text-align: right;\">\n",
       "      <th></th>\n",
       "      <th>CHAMPION</th>\n",
       "      <th>ROLE</th>\n",
       "      <th>WIN_True</th>\n",
       "      <th>WIN_False</th>\n",
       "    </tr>\n",
       "  </thead>\n",
       "  <tbody>\n",
       "    <tr>\n",
       "      <th>0</th>\n",
       "      <td>Kassadin</td>\n",
       "      <td>top</td>\n",
       "      <td>0</td>\n",
       "      <td>1</td>\n",
       "    </tr>\n",
       "    <tr>\n",
       "      <th>1</th>\n",
       "      <td>Fiora</td>\n",
       "      <td>top</td>\n",
       "      <td>1</td>\n",
       "      <td>0</td>\n",
       "    </tr>\n",
       "    <tr>\n",
       "      <th>2</th>\n",
       "      <td>Yone</td>\n",
       "      <td>middle</td>\n",
       "      <td>0</td>\n",
       "      <td>1</td>\n",
       "    </tr>\n",
       "    <tr>\n",
       "      <th>3</th>\n",
       "      <td>Corki</td>\n",
       "      <td>middle</td>\n",
       "      <td>1</td>\n",
       "      <td>0</td>\n",
       "    </tr>\n",
       "    <tr>\n",
       "      <th>4</th>\n",
       "      <td>Kaisa</td>\n",
       "      <td>bottom</td>\n",
       "      <td>0</td>\n",
       "      <td>1</td>\n",
       "    </tr>\n",
       "  </tbody>\n",
       "</table>\n",
       "</div>"
      ],
      "text/plain": [
       "   CHAMPION    ROLE  WIN_True  WIN_False\n",
       "0  Kassadin     top         0          1\n",
       "1     Fiora     top         1          0\n",
       "2      Yone  middle         0          1\n",
       "3     Corki  middle         1          0\n",
       "4     Kaisa  bottom         0          1"
      ]
     },
     "execution_count": 6,
     "metadata": {},
     "output_type": "execute_result"
    }
   ],
   "source": [
    "champ_role_extracted.head()"
   ]
  },
  {
   "cell_type": "code",
   "execution_count": 7,
   "metadata": {},
   "outputs": [
    {
     "data": {
      "text/plain": [
       "772"
      ]
     },
     "execution_count": 7,
     "metadata": {},
     "output_type": "execute_result"
    }
   ],
   "source": [
    "champ_role_extracted['champ_role'] = champ_role_extracted['CHAMPION'].str.cat(champ_role_extracted[['ROLE']], sep='_')\n",
    "champ_role_extracted.champ_role.nunique()"
   ]
  },
  {
   "cell_type": "code",
   "execution_count": 8,
   "metadata": {},
   "outputs": [
    {
     "data": {
      "text/html": [
       "<div>\n",
       "<style scoped>\n",
       "    .dataframe tbody tr th:only-of-type {\n",
       "        vertical-align: middle;\n",
       "    }\n",
       "\n",
       "    .dataframe tbody tr th {\n",
       "        vertical-align: top;\n",
       "    }\n",
       "\n",
       "    .dataframe thead th {\n",
       "        text-align: right;\n",
       "    }\n",
       "</style>\n",
       "<table border=\"1\" class=\"dataframe\">\n",
       "  <thead>\n",
       "    <tr style=\"text-align: right;\">\n",
       "      <th></th>\n",
       "      <th>index</th>\n",
       "      <th>count</th>\n",
       "    </tr>\n",
       "  </thead>\n",
       "  <tbody>\n",
       "    <tr>\n",
       "      <th>0</th>\n",
       "      <td>Ezreal_bottom</td>\n",
       "      <td>35172</td>\n",
       "    </tr>\n",
       "    <tr>\n",
       "      <th>1</th>\n",
       "      <td>Kaisa_bottom</td>\n",
       "      <td>28125</td>\n",
       "    </tr>\n",
       "    <tr>\n",
       "      <th>2</th>\n",
       "      <td>Thresh_utility</td>\n",
       "      <td>26293</td>\n",
       "    </tr>\n",
       "    <tr>\n",
       "      <th>3</th>\n",
       "      <td>LeeSin_jungle</td>\n",
       "      <td>23512</td>\n",
       "    </tr>\n",
       "    <tr>\n",
       "      <th>4</th>\n",
       "      <td>Lulu_utility</td>\n",
       "      <td>20272</td>\n",
       "    </tr>\n",
       "    <tr>\n",
       "      <th>...</th>\n",
       "      <td>...</td>\n",
       "      <td>...</td>\n",
       "    </tr>\n",
       "    <tr>\n",
       "      <th>560</th>\n",
       "      <td>Leblanc_bottom</td>\n",
       "      <td>16</td>\n",
       "    </tr>\n",
       "    <tr>\n",
       "      <th>561</th>\n",
       "      <td>TwistedFate_jungle</td>\n",
       "      <td>16</td>\n",
       "    </tr>\n",
       "    <tr>\n",
       "      <th>562</th>\n",
       "      <td>Camille_bottom</td>\n",
       "      <td>16</td>\n",
       "    </tr>\n",
       "    <tr>\n",
       "      <th>563</th>\n",
       "      <td>Volibear_utility</td>\n",
       "      <td>16</td>\n",
       "    </tr>\n",
       "    <tr>\n",
       "      <th>564</th>\n",
       "      <td>Taric_bottom</td>\n",
       "      <td>16</td>\n",
       "    </tr>\n",
       "  </tbody>\n",
       "</table>\n",
       "<p>565 rows × 2 columns</p>\n",
       "</div>"
      ],
      "text/plain": [
       "                  index  count\n",
       "0         Ezreal_bottom  35172\n",
       "1          Kaisa_bottom  28125\n",
       "2        Thresh_utility  26293\n",
       "3         LeeSin_jungle  23512\n",
       "4          Lulu_utility  20272\n",
       "..                  ...    ...\n",
       "560      Leblanc_bottom     16\n",
       "561  TwistedFate_jungle     16\n",
       "562      Camille_bottom     16\n",
       "563    Volibear_utility     16\n",
       "564        Taric_bottom     16\n",
       "\n",
       "[565 rows x 2 columns]"
      ]
     },
     "execution_count": 8,
     "metadata": {},
     "output_type": "execute_result"
    }
   ],
   "source": [
    "# champ in role count distribution.\n",
    "# Only keep those combinations which have atleast 15 records\n",
    "counts = champ_role_extracted.champ_role.value_counts().reset_index(name='count')\n",
    "counts = counts.query('count > 15')\n",
    "counts"
   ]
  },
  {
   "cell_type": "code",
   "execution_count": 9,
   "metadata": {},
   "outputs": [
    {
     "data": {
      "text/html": [
       "<div>\n",
       "<style scoped>\n",
       "    .dataframe tbody tr th:only-of-type {\n",
       "        vertical-align: middle;\n",
       "    }\n",
       "\n",
       "    .dataframe tbody tr th {\n",
       "        vertical-align: top;\n",
       "    }\n",
       "\n",
       "    .dataframe thead th {\n",
       "        text-align: right;\n",
       "    }\n",
       "</style>\n",
       "<table border=\"1\" class=\"dataframe\">\n",
       "  <thead>\n",
       "    <tr style=\"text-align: right;\">\n",
       "      <th></th>\n",
       "      <th>CHAMPION</th>\n",
       "      <th>ROLE</th>\n",
       "      <th>WIN_True</th>\n",
       "      <th>WIN_False</th>\n",
       "      <th>champ_role</th>\n",
       "    </tr>\n",
       "  </thead>\n",
       "  <tbody>\n",
       "    <tr>\n",
       "      <th>0</th>\n",
       "      <td>Kassadin</td>\n",
       "      <td>top</td>\n",
       "      <td>0</td>\n",
       "      <td>1</td>\n",
       "      <td>Kassadin_top</td>\n",
       "    </tr>\n",
       "    <tr>\n",
       "      <th>1</th>\n",
       "      <td>Fiora</td>\n",
       "      <td>top</td>\n",
       "      <td>1</td>\n",
       "      <td>0</td>\n",
       "      <td>Fiora_top</td>\n",
       "    </tr>\n",
       "    <tr>\n",
       "      <th>2</th>\n",
       "      <td>Yone</td>\n",
       "      <td>middle</td>\n",
       "      <td>0</td>\n",
       "      <td>1</td>\n",
       "      <td>Yone_middle</td>\n",
       "    </tr>\n",
       "    <tr>\n",
       "      <th>3</th>\n",
       "      <td>Corki</td>\n",
       "      <td>middle</td>\n",
       "      <td>1</td>\n",
       "      <td>0</td>\n",
       "      <td>Corki_middle</td>\n",
       "    </tr>\n",
       "    <tr>\n",
       "      <th>4</th>\n",
       "      <td>Kaisa</td>\n",
       "      <td>bottom</td>\n",
       "      <td>0</td>\n",
       "      <td>1</td>\n",
       "      <td>Kaisa_bottom</td>\n",
       "    </tr>\n",
       "    <tr>\n",
       "      <th>...</th>\n",
       "      <td>...</td>\n",
       "      <td>...</td>\n",
       "      <td>...</td>\n",
       "      <td>...</td>\n",
       "      <td>...</td>\n",
       "    </tr>\n",
       "    <tr>\n",
       "      <th>1312243</th>\n",
       "      <td>Alistar</td>\n",
       "      <td>utility</td>\n",
       "      <td>1</td>\n",
       "      <td>0</td>\n",
       "      <td>Alistar_utility</td>\n",
       "    </tr>\n",
       "    <tr>\n",
       "      <th>1312244</th>\n",
       "      <td>LeeSin</td>\n",
       "      <td>jungle</td>\n",
       "      <td>0</td>\n",
       "      <td>1</td>\n",
       "      <td>LeeSin_jungle</td>\n",
       "    </tr>\n",
       "    <tr>\n",
       "      <th>1312245</th>\n",
       "      <td>FiddleSticks</td>\n",
       "      <td>jungle</td>\n",
       "      <td>1</td>\n",
       "      <td>0</td>\n",
       "      <td>FiddleSticks_jungle</td>\n",
       "    </tr>\n",
       "    <tr>\n",
       "      <th>1312246</th>\n",
       "      <td>Shen</td>\n",
       "      <td>top</td>\n",
       "      <td>0</td>\n",
       "      <td>1</td>\n",
       "      <td>Shen_top</td>\n",
       "    </tr>\n",
       "    <tr>\n",
       "      <th>1312247</th>\n",
       "      <td>Darius</td>\n",
       "      <td>top</td>\n",
       "      <td>1</td>\n",
       "      <td>0</td>\n",
       "      <td>Darius_top</td>\n",
       "    </tr>\n",
       "  </tbody>\n",
       "</table>\n",
       "<p>1310957 rows × 5 columns</p>\n",
       "</div>"
      ],
      "text/plain": [
       "             CHAMPION     ROLE  WIN_True  WIN_False           champ_role\n",
       "0            Kassadin      top         0          1         Kassadin_top\n",
       "1               Fiora      top         1          0            Fiora_top\n",
       "2                Yone   middle         0          1          Yone_middle\n",
       "3               Corki   middle         1          0         Corki_middle\n",
       "4               Kaisa   bottom         0          1         Kaisa_bottom\n",
       "...               ...      ...       ...        ...                  ...\n",
       "1312243       Alistar  utility         1          0      Alistar_utility\n",
       "1312244        LeeSin   jungle         0          1        LeeSin_jungle\n",
       "1312245  FiddleSticks   jungle         1          0  FiddleSticks_jungle\n",
       "1312246          Shen      top         0          1             Shen_top\n",
       "1312247        Darius      top         1          0           Darius_top\n",
       "\n",
       "[1310957 rows x 5 columns]"
      ]
     },
     "execution_count": 9,
     "metadata": {},
     "output_type": "execute_result"
    }
   ],
   "source": [
    "champ_role_extracted = champ_role_extracted[champ_role_extracted.champ_role.isin(counts['index'])]\n",
    "champ_role_extracted"
   ]
  },
  {
   "cell_type": "code",
   "execution_count": 10,
   "metadata": {},
   "outputs": [],
   "source": [
    "champ_role_extracted = champ_role_extracted.groupby(['CHAMPION', 'ROLE']).apply(lambda x: (x['WIN_True'].sum()/(x['WIN_True'].sum() + x['WIN_False'].sum() )*100)).reset_index(name='WINRATE')"
   ]
  },
  {
   "cell_type": "code",
   "execution_count": 11,
   "metadata": {},
   "outputs": [
    {
     "data": {
      "text/html": [
       "<div>\n",
       "<style scoped>\n",
       "    .dataframe tbody tr th:only-of-type {\n",
       "        vertical-align: middle;\n",
       "    }\n",
       "\n",
       "    .dataframe tbody tr th {\n",
       "        vertical-align: top;\n",
       "    }\n",
       "\n",
       "    .dataframe thead th {\n",
       "        text-align: right;\n",
       "    }\n",
       "</style>\n",
       "<table border=\"1\" class=\"dataframe\">\n",
       "  <thead>\n",
       "    <tr style=\"text-align: right;\">\n",
       "      <th></th>\n",
       "      <th>WINRATE</th>\n",
       "    </tr>\n",
       "  </thead>\n",
       "  <tbody>\n",
       "    <tr>\n",
       "      <th>count</th>\n",
       "      <td>565.000000</td>\n",
       "    </tr>\n",
       "    <tr>\n",
       "      <th>mean</th>\n",
       "      <td>47.824775</td>\n",
       "    </tr>\n",
       "    <tr>\n",
       "      <th>std</th>\n",
       "      <td>6.930245</td>\n",
       "    </tr>\n",
       "    <tr>\n",
       "      <th>min</th>\n",
       "      <td>15.625000</td>\n",
       "    </tr>\n",
       "    <tr>\n",
       "      <th>25%</th>\n",
       "      <td>45.454545</td>\n",
       "    </tr>\n",
       "    <tr>\n",
       "      <th>50%</th>\n",
       "      <td>49.375975</td>\n",
       "    </tr>\n",
       "    <tr>\n",
       "      <th>75%</th>\n",
       "      <td>51.309397</td>\n",
       "    </tr>\n",
       "    <tr>\n",
       "      <th>max</th>\n",
       "      <td>72.000000</td>\n",
       "    </tr>\n",
       "  </tbody>\n",
       "</table>\n",
       "</div>"
      ],
      "text/plain": [
       "          WINRATE\n",
       "count  565.000000\n",
       "mean    47.824775\n",
       "std      6.930245\n",
       "min     15.625000\n",
       "25%     45.454545\n",
       "50%     49.375975\n",
       "75%     51.309397\n",
       "max     72.000000"
      ]
     },
     "execution_count": 11,
     "metadata": {},
     "output_type": "execute_result"
    }
   ],
   "source": [
    "champ_role_extracted.describe()"
   ]
  },
  {
   "cell_type": "code",
   "execution_count": 12,
   "metadata": {},
   "outputs": [],
   "source": [
    "champ_role_extracted.to_csv(os.path.join(data_path, 'champ_role_wr.csv'), index = False)"
   ]
  }
 ],
 "metadata": {
  "interpreter": {
   "hash": "a37c187222e1b6fb605381c1d285f7353068b772cd788ed53e35431fd995498d"
  },
  "kernelspec": {
   "display_name": "Python 3.8.11 64-bit ('base': conda)",
   "language": "python",
   "name": "python3"
  },
  "language_info": {
   "codemirror_mode": {
    "name": "ipython",
    "version": 3
   },
   "file_extension": ".py",
   "mimetype": "text/x-python",
   "name": "python",
   "nbconvert_exporter": "python",
   "pygments_lexer": "ipython3",
   "version": "3.8.11"
  },
  "orig_nbformat": 4
 },
 "nbformat": 4,
 "nbformat_minor": 2
}
