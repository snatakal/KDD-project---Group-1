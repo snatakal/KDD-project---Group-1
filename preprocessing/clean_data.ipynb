{
 "cells": [
  {
   "cell_type": "code",
   "execution_count": 1,
   "metadata": {},
   "outputs": [],
   "source": [
    "import pandas as pd\n",
    "import warnings\n",
    "import os\n",
    "warnings.filterwarnings('ignore')"
   ]
  },
  {
   "cell_type": "code",
   "execution_count": 2,
   "metadata": {},
   "outputs": [],
   "source": [
    "parent_dir = os.path.dirname(os.getcwd())\n",
    "data_path = os.path.join(parent_dir, 'data', 'raw')\n",
    "out_path = os.path.join(parent_dir, 'data', 'datasets')"
   ]
  },
  {
   "cell_type": "code",
   "execution_count": 3,
   "metadata": {},
   "outputs": [
    {
     "data": {
      "text/html": [
       "<div>\n",
       "<style scoped>\n",
       "    .dataframe tbody tr th:only-of-type {\n",
       "        vertical-align: middle;\n",
       "    }\n",
       "\n",
       "    .dataframe tbody tr th {\n",
       "        vertical-align: top;\n",
       "    }\n",
       "\n",
       "    .dataframe thead th {\n",
       "        text-align: right;\n",
       "    }\n",
       "</style>\n",
       "<table border=\"1\" class=\"dataframe\">\n",
       "  <thead>\n",
       "    <tr style=\"text-align: right;\">\n",
       "      <th></th>\n",
       "      <th>P_MATCH_ID</th>\n",
       "      <th>GOLDEARNED</th>\n",
       "      <th>TOTALMINIONSKILLED</th>\n",
       "      <th>WIN</th>\n",
       "      <th>KILLS</th>\n",
       "      <th>ASSISTS</th>\n",
       "      <th>DEATHS</th>\n",
       "      <th>CHAMPION</th>\n",
       "      <th>VISIONSCORE</th>\n",
       "      <th>PUUID</th>\n",
       "      <th>TOTALDAMAGEDEALTTOCHAMPIONS</th>\n",
       "      <th>SUMMONERNAME</th>\n",
       "      <th>GAMEVERSION</th>\n",
       "      <th>Unnamed: 13</th>\n",
       "    </tr>\n",
       "  </thead>\n",
       "  <tbody>\n",
       "    <tr>\n",
       "      <th>0</th>\n",
       "      <td>TR1_1201957752_top</td>\n",
       "      <td>14425</td>\n",
       "      <td>194</td>\n",
       "      <td>False</td>\n",
       "      <td>14</td>\n",
       "      <td>5</td>\n",
       "      <td>7</td>\n",
       "      <td>Kassadin</td>\n",
       "      <td>17</td>\n",
       "      <td>phduyQLB8gBjUerFwiVOtyLLHE9jxw7Jq7dwab_CtRddAv...</td>\n",
       "      <td>33426</td>\n",
       "      <td>Borke</td>\n",
       "      <td>11.14.384.6677</td>\n",
       "      <td>NaN</td>\n",
       "    </tr>\n",
       "    <tr>\n",
       "      <th>1</th>\n",
       "      <td>TR1_1201957752_top</td>\n",
       "      <td>12920</td>\n",
       "      <td>177</td>\n",
       "      <td>True</td>\n",
       "      <td>3</td>\n",
       "      <td>13</td>\n",
       "      <td>6</td>\n",
       "      <td>Fiora</td>\n",
       "      <td>17</td>\n",
       "      <td>SgQ5hm74vmXVDB3GIt3ka7gaBXFpNnT3PbHU8TbjEk5PJ8...</td>\n",
       "      <td>12092</td>\n",
       "      <td>Nora Durst</td>\n",
       "      <td>11.14.384.6677</td>\n",
       "      <td>NaN</td>\n",
       "    </tr>\n",
       "    <tr>\n",
       "      <th>2</th>\n",
       "      <td>TR1_1201957752_middle</td>\n",
       "      <td>13483</td>\n",
       "      <td>221</td>\n",
       "      <td>False</td>\n",
       "      <td>7</td>\n",
       "      <td>3</td>\n",
       "      <td>6</td>\n",
       "      <td>Yone</td>\n",
       "      <td>20</td>\n",
       "      <td>m7Sxq9HxRKLIgf0n0QOKhfHq8jNMZ-k1VhW_jcb307sUya...</td>\n",
       "      <td>20604</td>\n",
       "      <td>Fightêr Yone</td>\n",
       "      <td>11.14.384.6677</td>\n",
       "      <td>NaN</td>\n",
       "    </tr>\n",
       "    <tr>\n",
       "      <th>3</th>\n",
       "      <td>TR1_1201957752_middle</td>\n",
       "      <td>11375</td>\n",
       "      <td>167</td>\n",
       "      <td>True</td>\n",
       "      <td>4</td>\n",
       "      <td>15</td>\n",
       "      <td>7</td>\n",
       "      <td>Corki</td>\n",
       "      <td>27</td>\n",
       "      <td>pa-g2VGIEJn7CJCYYQU1PaHUqjS9pB7M4PsDcjM3ac5ysM...</td>\n",
       "      <td>30150</td>\n",
       "      <td>AM SORİİ HE</td>\n",
       "      <td>11.14.384.6677</td>\n",
       "      <td>NaN</td>\n",
       "    </tr>\n",
       "    <tr>\n",
       "      <th>4</th>\n",
       "      <td>TR1_1201957752_bottom</td>\n",
       "      <td>11320</td>\n",
       "      <td>197</td>\n",
       "      <td>False</td>\n",
       "      <td>5</td>\n",
       "      <td>10</td>\n",
       "      <td>12</td>\n",
       "      <td>Kaisa</td>\n",
       "      <td>17</td>\n",
       "      <td>_WeC06P4yIMW7ZMWi6bmwCagXp7c7bxxGv6nNW4--SGqXp...</td>\n",
       "      <td>16689</td>\n",
       "      <td>º J İ N X º</td>\n",
       "      <td>11.14.384.6677</td>\n",
       "      <td>NaN</td>\n",
       "    </tr>\n",
       "  </tbody>\n",
       "</table>\n",
       "</div>"
      ],
      "text/plain": [
       "              P_MATCH_ID  GOLDEARNED  TOTALMINIONSKILLED    WIN  KILLS  \\\n",
       "0     TR1_1201957752_top       14425                 194  False     14   \n",
       "1     TR1_1201957752_top       12920                 177   True      3   \n",
       "2  TR1_1201957752_middle       13483                 221  False      7   \n",
       "3  TR1_1201957752_middle       11375                 167   True      4   \n",
       "4  TR1_1201957752_bottom       11320                 197  False      5   \n",
       "\n",
       "   ASSISTS  DEATHS  CHAMPION  VISIONSCORE  \\\n",
       "0        5       7  Kassadin           17   \n",
       "1       13       6     Fiora           17   \n",
       "2        3       6      Yone           20   \n",
       "3       15       7     Corki           27   \n",
       "4       10      12     Kaisa           17   \n",
       "\n",
       "                                               PUUID  \\\n",
       "0  phduyQLB8gBjUerFwiVOtyLLHE9jxw7Jq7dwab_CtRddAv...   \n",
       "1  SgQ5hm74vmXVDB3GIt3ka7gaBXFpNnT3PbHU8TbjEk5PJ8...   \n",
       "2  m7Sxq9HxRKLIgf0n0QOKhfHq8jNMZ-k1VhW_jcb307sUya...   \n",
       "3  pa-g2VGIEJn7CJCYYQU1PaHUqjS9pB7M4PsDcjM3ac5ysM...   \n",
       "4  _WeC06P4yIMW7ZMWi6bmwCagXp7c7bxxGv6nNW4--SGqXp...   \n",
       "\n",
       "   TOTALDAMAGEDEALTTOCHAMPIONS  SUMMONERNAME     GAMEVERSION  Unnamed: 13  \n",
       "0                        33426         Borke  11.14.384.6677          NaN  \n",
       "1                        12092    Nora Durst  11.14.384.6677          NaN  \n",
       "2                        20604  Fightêr Yone  11.14.384.6677          NaN  \n",
       "3                        30150   AM SORİİ HE  11.14.384.6677          NaN  \n",
       "4                        16689  º J İ N X º   11.14.384.6677          NaN  "
      ]
     },
     "execution_count": 3,
     "metadata": {},
     "output_type": "execute_result"
    }
   ],
   "source": [
    "matches = pd.read_csv(os.path.join(data_path, 'matchups.csv'))\n",
    "matches.head()"
   ]
  },
  {
   "cell_type": "code",
   "execution_count": 4,
   "metadata": {},
   "outputs": [],
   "source": [
    "# splitting the P_MATCH_ID to Region, Match Id and Role\n",
    "matches[['REGION', 'MATCH_ID', 'ROLE']] = matches['P_MATCH_ID'].str.split('_', expand=True)\n",
    "\n",
    "# MATCH_ID is not unique across regions. Create a unique identifier.\n",
    "matches['MATCH_ID'] = matches['MATCH_ID'].str.cat(matches[['REGION']], sep='_')"
   ]
  },
  {
   "cell_type": "code",
   "execution_count": 5,
   "metadata": {},
   "outputs": [],
   "source": [
    "# Dropping unnecessary columns\n",
    "matches = matches.drop(columns = ['P_MATCH_ID', 'Unnamed: 13'])"
   ]
  },
  {
   "cell_type": "code",
   "execution_count": 6,
   "metadata": {},
   "outputs": [
    {
     "data": {
      "text/plain": [
       "0"
      ]
     },
     "execution_count": 6,
     "metadata": {},
     "output_type": "execute_result"
    }
   ],
   "source": [
    "# dropping null records\n",
    "null_index = matches[matches.isnull().any(axis=1)].MATCH_ID.index.tolist()\n",
    "matches = matches.drop(index = null_index)\n",
    "# matches = matches[~matches.MATCH_ID.isin(null_match_id)]\n",
    "\n",
    "matches[matches.isnull().any(axis=1)].count().sum()"
   ]
  },
  {
   "cell_type": "code",
   "execution_count": 7,
   "metadata": {},
   "outputs": [
    {
     "data": {
      "text/plain": [
       "0"
      ]
     },
     "execution_count": 7,
     "metadata": {},
     "output_type": "execute_result"
    }
   ],
   "source": [
    "# Drop invalid records\n",
    "numeric_columns = matches._get_numeric_data().columns\n",
    "invalid_index = matches[matches[numeric_columns].values < 0].MATCH_ID.index.tolist()\n",
    "matches = matches.drop(index=invalid_index)\n",
    "# matches = matches[~matches.MATCH_ID.isin(invalid_match_id)]\n",
    "\n",
    "matches[matches[numeric_columns].values < 0].count().sum()"
   ]
  },
  {
   "cell_type": "code",
   "execution_count": 8,
   "metadata": {},
   "outputs": [
    {
     "name": "stdout",
     "output_type": "stream",
     "text": [
      "Index(['GOLDEARNED', 'TOTALMINIONSKILLED', 'WIN', 'KILLS', 'ASSISTS', 'DEATHS',\n",
      "       'CHAMPION', 'VISIONSCORE', 'PUUID', 'TOTALDAMAGEDEALTTOCHAMPIONS',\n",
      "       'SUMMONERNAME', 'GAMEVERSION', 'REGION', 'MATCH_ID', 'ROLE'],\n",
      "      dtype='object')\n",
      "(1312248, 15)\n"
     ]
    }
   ],
   "source": [
    "print(matches.columns)\n",
    "print(matches.shape)"
   ]
  },
  {
   "cell_type": "code",
   "execution_count": 9,
   "metadata": {},
   "outputs": [],
   "source": [
    "matches.to_csv(os.path.join(out_path, 'dataset.csv'), index=False)"
   ]
  }
 ],
 "metadata": {
  "interpreter": {
   "hash": "a37c187222e1b6fb605381c1d285f7353068b772cd788ed53e35431fd995498d"
  },
  "kernelspec": {
   "display_name": "Python 3.8.11 64-bit ('base': conda)",
   "language": "python",
   "name": "python3"
  },
  "language_info": {
   "codemirror_mode": {
    "name": "ipython",
    "version": 3
   },
   "file_extension": ".py",
   "mimetype": "text/x-python",
   "name": "python",
   "nbconvert_exporter": "python",
   "pygments_lexer": "ipython3",
   "version": "3.8.11"
  },
  "orig_nbformat": 4
 },
 "nbformat": 4,
 "nbformat_minor": 2
}
